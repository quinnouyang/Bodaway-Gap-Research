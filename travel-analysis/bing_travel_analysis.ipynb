{
 "cells": [
  {
   "cell_type": "markdown",
   "metadata": {},
   "source": [
    "# Analyzing Travel Times and Distances"
   ]
  },
  {
   "attachments": {},
   "cell_type": "markdown",
   "metadata": {},
   "source": [
    "This gathers travel times and distances using the [Bing Maps Distance Matrix API](https://www.microsoft.com/en-us/maps/distance-matrix).\n",
    "\n",
    "Given a list of $O$ origins and $D$ destinations, it calculates a $O$ by $D$ matrix of the respective travel time and distance for each origin and distance. The service [limits our queries](https://learn.microsoft.com/en-us/bingmaps/rest-services/routes/calculate-a-distance-matrix#api-limits) to \"$2,500$ origins-destinations pairs,\" i.e $O \\times D \\leq 2500$. This should be more than enough for our use case. (We're also arbitrarily rate limited, hence the `sleep` timer.)"
   ]
  },
  {
   "attachments": {},
   "cell_type": "markdown",
   "metadata": {},
   "source": [
    "Ensure that Python 3.x and the following dependencies are installed. There is a `requirements.txt` file in the root reporitostory directory that you can install via `pip install -r requirements.txt`, though it might be outdated."
   ]
  },
  {
   "cell_type": "code",
   "execution_count": 66,
   "metadata": {},
   "outputs": [],
   "source": [
    "from config import MAPS_API_KEY as API_KEY\n",
    "import requests\n",
    "from requests import Response\n",
    "import pandas as pd\n",
    "import json\n",
    "import matplotlib.pyplot as plt\n",
    "import numpy as np\n",
    "from time import sleep\n",
    "from pprint import pprint\n",
    "import asyncio\n",
    "from aiohttp import ClientSession\n",
    "\n",
    "import plotly.graph_objects as go\n",
    "import plotly.express as px"
   ]
  },
  {
   "attachments": {},
   "cell_type": "markdown",
   "metadata": {},
   "source": [
    "### Example Query\n",
    "\n",
    "Below is an example API query: multiple origins, one destination.\n",
    "Here, both origins and destinations are in latitude and longitude coordinates (in that order). The URL essentially accepts these as semi-colon-separated pairs.\n",
    "\n",
    "**Note:** In our actual querying, we will be relying on `aiohttp`'s `request` to support multi-threading instead of the `requests` shown here."
   ]
  },
  {
   "cell_type": "code",
   "execution_count": 3,
   "metadata": {},
   "outputs": [
    {
     "name": "stdout",
     "output_type": "stream",
     "text": [
      "{'authenticationResultCode': 'ValidCredentials',\n",
      " 'brandLogoUri': 'http://dev.virtualearth.net/Branding/logo_powered_by.png',\n",
      " 'copyright': 'Copyright © 2023 Microsoft and its suppliers. All rights '\n",
      "              'reserved. This API cannot be accessed and the content and any '\n",
      "              'results may not be used, reproduced or transmitted in any '\n",
      "              'manner without express written permission from Microsoft '\n",
      "              'Corporation.',\n",
      " 'resourceSets': [{'estimatedTotal': 1,\n",
      "                   'resources': [{'__type': 'DistanceMatrix:http://schemas.microsoft.com/search/local/ws/rest/v1',\n",
      "                                  'destinations': [{'latitude': 36.63,\n",
      "                                                    'longitude': -111.65}],\n",
      "                                  'origins': [{'latitude': 36.03,\n",
      "                                               'longitude': -111.44},\n",
      "                                              {'latitude': 36.28,\n",
      "                                               'longitude': -111.68}],\n",
      "                                  'results': [{'destinationIndex': 0,\n",
      "                                               'originIndex': 0,\n",
      "                                               'totalWalkDuration': 0,\n",
      "                                               'travelDistance': 73.363,\n",
      "                                               'travelDuration': 40.4833},\n",
      "                                              {'destinationIndex': 0,\n",
      "                                               'originIndex': 1,\n",
      "                                               'totalWalkDuration': 0,\n",
      "                                               'travelDistance': 53.429,\n",
      "                                               'travelDuration': 65.7}]}]}],\n",
      " 'statusCode': 200,\n",
      " 'statusDescription': 'OK',\n",
      " 'traceId': '5e1f3136ba0548c9862b5156f9742d2b|CH0001B043|0.0.0.0|CHI001B783'}\n"
     ]
    }
   ],
   "source": [
    "orig_lat_0, orig_long_0 = 36.03, -111.44\n",
    "orig_lat_1, orig_long_1 = 36.28, -111.68\n",
    "dest_lat, dest_long = 36.63, -111.65\n",
    "\n",
    "ex_query_url = f\"https://dev.virtualearth.net/REST/v1/Routes/DistanceMatrix?origins={orig_lat_0},{orig_long_0};{orig_lat_1},{orig_long_1}&destinations={dest_lat},{dest_long}&travelMode=driving&key={API_KEY}\"\n",
    "ex_query = requests.request(\"GET\", ex_query_url)\n",
    "pprint(ex_query.json())"
   ]
  },
  {
   "cell_type": "markdown",
   "metadata": {},
   "source": [
    "### Formatting Locations Into API-Specified String\n",
    "Accepts a DataFrame input (see \"Reading and Filtering Input Data\") and formats its latitude and loingitude coordinates to prepare it for querying."
   ]
  },
  {
   "cell_type": "code",
   "execution_count": 4,
   "metadata": {},
   "outputs": [],
   "source": [
    "def format_locations_list(locs: pd.DataFrame) -> list[str]:\n",
    "    return [\n",
    "        f\"{coords['LATITUDE']},{coords['LONGITUDE']}\" for _, coords in locs.iterrows()\n",
    "    ]\n",
    "\n",
    "\n",
    "def format_locations_str(locs: pd.DataFrame) -> str:\n",
    "    return \";\".join(format_locations_list(locs))\n",
    "\n",
    "\n",
    "def format_location_str(lat: float, long: float) -> str:\n",
    "    return f\"{lat},{long};\""
   ]
  },
  {
   "cell_type": "markdown",
   "metadata": {},
   "source": [
    "## Homes and Corrals vs. Watering Points"
   ]
  },
  {
   "cell_type": "markdown",
   "metadata": {},
   "source": [
    "### Reading and Filtering Input Data\n",
    "Most (if not all) of customizing the query is here, as we get to specify which destinations and origins to calculate distances against."
   ]
  },
  {
   "cell_type": "code",
   "execution_count": 87,
   "metadata": {},
   "outputs": [
    {
     "name": "stdout",
     "output_type": "stream",
     "text": [
      "Extracted 150 origins (homes/corrals) and 50 destinations (reservoirs).\n"
     ]
    }
   ],
   "source": [
    "df = pd.read_excel(\"Water Optimization/travel_analysis/Master_sheet_oct_22.xlsx\")\n",
    "locs = df[[\"NAME\", \"TYPE\", \"LONGITUDE\", \"LATITUDE\"]]\n",
    "\n",
    "# Filter to homes and corrals (320 total, as of 4/13/2023)\n",
    "# Requires bitwise OR `|` and paranthesis around each conditional, i.e. `(locs['Column name'] == 'Row value\") | ...`\n",
    "homes_corrals = locs.loc[(locs[\"NAME\"] == \"Home\") | (locs[\"NAME\"] == \"Corral\")][:150]\n",
    "\n",
    "# Filter to reservoir candidates (137 total, as of 4/13/2023)\n",
    "reservoirs = locs[\n",
    "    (locs[\"TYPE\"] == \"LW Groundwater Source\")\n",
    "    | (locs[\"TYPE\"] == \"PW Groundwater Source\")\n",
    "    | (locs[\"TYPE\"] == \"LW Surface Water Source\")\n",
    "][:50]\n",
    "\n",
    "print(\n",
    "    f\"Extracted {len(homes_corrals)} origins (homes/corrals) and {len(reservoirs)} destinations (reservoirs).\"\n",
    ")"
   ]
  },
  {
   "attachments": {},
   "cell_type": "markdown",
   "metadata": {},
   "source": [
    "### Parallel Querying"
   ]
  },
  {
   "cell_type": "code",
   "execution_count": 88,
   "metadata": {},
   "outputs": [],
   "source": [
    "# def fetch_distances(formatted_dests: str, formatted_origs: str) -> Response:\n",
    "#     \"\"\"\n",
    "#     Given the formatted origins and destinations, returns a { request: str, url: str } from the Bing Maps API\n",
    "#     \"\"\"\n",
    "#     link = f\"https://dev.virtualearth.net/REST/v1/Routes/DistanceMatrix?origins={formatted_origs}&destinations={formatted_dests}&travelMode=driving&key={API_KEY}\"\n",
    "#     return requests.request(\"GET\", link)\n",
    "\n",
    "\n",
    "async def _get_response(session: ClientSession, url: str) -> dict:\n",
    "    async with session.get(url) as response:\n",
    "        return await response.json()\n",
    "\n",
    "\n",
    "async def _make_request(\n",
    "    url: str, queue: asyncio.Queue, semaphore: asyncio.Semaphore\n",
    ") -> None:\n",
    "    async with semaphore:\n",
    "        async with ClientSession() as session:\n",
    "            too_many_reqs = True\n",
    "            response = dict()\n",
    "\n",
    "            while too_many_reqs:\n",
    "                response = await _get_response(session, url)\n",
    "                if response[\"statusCode\"] != 429:\n",
    "                    too_many_reqs = False\n",
    "                else:\n",
    "                    await asyncio.sleep(0.001)\n",
    "\n",
    "            await queue.put({\"response\": response, \"url\": url})\n",
    "\n",
    "\n",
    "async def run_query(origs: pd.DataFrame, dests: pd.DataFrame) -> list:\n",
    "    results = []\n",
    "\n",
    "    queue = asyncio.Queue()\n",
    "    semaphore = asyncio.Semaphore(50)\n",
    "\n",
    "    formatted_origs = format_locations_list(origs)\n",
    "    formatted_dests = format_locations_list(dests)\n",
    "\n",
    "    async with asyncio.TaskGroup() as group:\n",
    "        for orig in formatted_origs:\n",
    "            for dest in formatted_dests:\n",
    "                group.create_task(\n",
    "                    _make_request(\n",
    "                        f\"https://dev.virtualearth.net/REST/v1/Routes/DistanceMatrix?origins={orig}&destinations={dest}&travelMode=driving&key={API_KEY}\",\n",
    "                        queue,\n",
    "                        semaphore,\n",
    "                    )\n",
    "                )\n",
    "\n",
    "    count = 0\n",
    "    while not queue.empty():\n",
    "        if count >= 50:\n",
    "            await asyncio.sleep(0.001)\n",
    "            count = 0\n",
    "\n",
    "        results.append(await queue.get())\n",
    "        count += 1\n",
    "\n",
    "    return results"
   ]
  },
  {
   "attachments": {},
   "cell_type": "markdown",
   "metadata": {},
   "source": [
    "### Querying Command (Run conservatively)"
   ]
  },
  {
   "cell_type": "code",
   "execution_count": 89,
   "metadata": {},
   "outputs": [
    {
     "ename": "ExceptionGroup",
     "evalue": "unhandled errors in a TaskGroup (1 sub-exception)",
     "output_type": "error",
     "traceback": [
      "\u001b[0;31m---------------------------------------------------------------------------\u001b[0m",
      "\u001b[0;31mExceptionGroup\u001b[0m                            Traceback (most recent call last)",
      "Cell \u001b[0;32mIn[89], line 2\u001b[0m\n\u001b[1;32m      1\u001b[0m \u001b[39m# Entire query is in one (the first) result\u001b[39;00m\n\u001b[0;32m----> 2\u001b[0m results \u001b[39m=\u001b[39m (\u001b[39mawait\u001b[39;00m asyncio\u001b[39m.\u001b[39mgather(run_query(homes_corrals, reservoirs)))[\u001b[39m0\u001b[39m]\n\u001b[1;32m      3\u001b[0m pprint(results)\n",
      "Cell \u001b[0;32mIn[88], line 41\u001b[0m, in \u001b[0;36mrun_query\u001b[0;34m(origs, dests)\u001b[0m\n\u001b[1;32m     38\u001b[0m formatted_origs \u001b[39m=\u001b[39m format_locations_list(origs)\n\u001b[1;32m     39\u001b[0m formatted_dests \u001b[39m=\u001b[39m format_locations_list(dests)\n\u001b[0;32m---> 41\u001b[0m \u001b[39masync\u001b[39;00m \u001b[39mwith\u001b[39;00m asyncio\u001b[39m.\u001b[39mTaskGroup() \u001b[39mas\u001b[39;00m group:\n\u001b[1;32m     42\u001b[0m     \u001b[39mfor\u001b[39;00m orig \u001b[39min\u001b[39;00m formatted_origs:\n\u001b[1;32m     43\u001b[0m         \u001b[39mfor\u001b[39;00m dest \u001b[39min\u001b[39;00m formatted_dests:\n",
      "File \u001b[0;32m~/.pyenv/versions/3.11.1/lib/python3.11/asyncio/taskgroups.py:133\u001b[0m, in \u001b[0;36mTaskGroup.__aexit__\u001b[0;34m(self, et, exc, tb)\u001b[0m\n\u001b[1;32m    131\u001b[0m \u001b[39mtry\u001b[39;00m:\n\u001b[1;32m    132\u001b[0m     me \u001b[39m=\u001b[39m BaseExceptionGroup(\u001b[39m'\u001b[39m\u001b[39munhandled errors in a TaskGroup\u001b[39m\u001b[39m'\u001b[39m, \u001b[39mself\u001b[39m\u001b[39m.\u001b[39m_errors)\n\u001b[0;32m--> 133\u001b[0m     \u001b[39mraise\u001b[39;00m me \u001b[39mfrom\u001b[39;00m \u001b[39mNone\u001b[39m\n\u001b[1;32m    134\u001b[0m \u001b[39mfinally\u001b[39;00m:\n\u001b[1;32m    135\u001b[0m     \u001b[39mself\u001b[39m\u001b[39m.\u001b[39m_errors \u001b[39m=\u001b[39m \u001b[39mNone\u001b[39;00m\n",
      "\u001b[0;31mExceptionGroup\u001b[0m: unhandled errors in a TaskGroup (1 sub-exception)"
     ]
    }
   ],
   "source": [
    "# Entire query is in one (the first) result\n",
    "results = (await asyncio.gather(run_query(homes_corrals, reservoirs)))[0]\n",
    "pprint(results)"
   ]
  },
  {
   "attachments": {},
   "cell_type": "markdown",
   "metadata": {},
   "source": [
    "## Processing the Results\n",
    "### Example Formatted Result"
   ]
  },
  {
   "cell_type": "code",
   "execution_count": 28,
   "metadata": {},
   "outputs": [
    {
     "name": "stdout",
     "output_type": "stream",
     "text": [
      "https://dev.virtualearth.net/REST/v1/Routes/DistanceMatrix?origins=36.0057708,-111.5161282;36.051963,-111.5421178;36.4005527,-111.7203825;36.3403401,-111.7622694;36.0638527,-111.5355458;36.5608292,-111.7391979;36.5232688,-111.728044;36.0645147,-111.6339967;36.1145249,-111.6159235;36.250792,-111.7629831;36.3083024,-111.7512179;36.2758368,-111.6756069;36.2772374,-111.6828238;36.4569573,-111.691696;36.4090399,-111.6266555;36.5198745,-111.6644153;36.4246905,-111.5703322;36.2855293,-111.5073213;36.3052537,-111.5107852;36.6213637,-111.6767236;36.4322183,-111.6900709;36.2253496,-111.3958839;35.8951607,-111.4045696;35.889656,-111.4035683;35.8981984,-111.4000044;35.8934746,-111.4045267;36.2096925,-111.3968916;36.2180564,-111.4001999;36.2223209,-111.401304;36.2099348,-111.3983293;36.2113582,-111.398456;36.2601551,-111.4199452;36.3059606,-111.4670218;36.2490893,-111.431771;36.2588833,-111.4198674;36.2594176,-111.4199666;36.2734216,-111.4395327;36.2660638,-111.4249204;36.3078347,-111.4534645;36.3037553,-111.4563091;36.3033663,-111.4509327;36.3069961,-111.4547144;36.3057597,-111.4586784;36.3046848,-111.4522267;36.3067295,-111.4599933;36.30563,-111.4575572;36.3039489,-111.4638532;36.3051083,-111.4610447;36.3024877,-111.4596744;36.30324,-111.4616377;36.305511,-111.4651926;36.3042314,-111.4649941;36.3036939,-111.4629681;36.3135634,-111.4742627;36.3103685,-111.4644942;36.3113503,-111.4721815;36.3055499,-111.4658363;36.3069517,-111.4668722;36.3051306,-111.46648;36.3051565,-111.4656968;36.3074532,-111.4674409;36.3151252,-111.4773688;36.3214163,-111.4765333;36.32947,-111.4916012;36.3302047,-111.4922181;36.6123147,-111.6530538;36.33449,-111.491055;36.6153962,-111.6520196;36.616616,-111.6520509;36.615137,-111.6567629;36.6175143,-111.6516745;36.6188405,-111.6521863;36.6184896,-111.6522158;36.6185821,-111.6515023;36.6206073,-111.6512441;36.6196314,-111.6578045;36.6200512,-111.6580056;36.624848,-111.649984;36.623025,-111.650912;36.6296381,-111.6473892;36.6328014,-111.6484512;36.6275458,-111.6453775;36.6269862,-111.6497452;36.6322246,-111.6498513;36.642721,-111.6484483;36.6340864,-111.6548145;36.6375322,-111.6546381;36.6372724,-111.6459082;36.6370184,-111.6431026;36.6381012,-111.6408705;36.6374895,-111.6571557;36.6415265,-111.6437319;36.6385649,-111.657329;36.6442758,-111.6477616;36.6406769,-111.6567914;36.6393677,-111.6580237;36.6401647,-111.6573386;36.6446162,-111.6549063;36.640962,-111.6578343;36.6479246,-111.6560297;36.6470595,-111.6536425;36.6513786,-111.6605628;36.6514835,-111.6490282;36.7009541,-111.6608479;36.7236662,-111.6391836;36.7373235,-111.6347513;36.7389922,-111.6350635;36.7399847,-111.6351223;36.7545235,-111.6366356;36.7635543,-111.6196821;36.7646962,-111.6226661;36.7725466,-111.6173985;36.7738185,-111.6191633;36.7736595,-111.6200109;36.7734017,-111.6201558;36.7731138,-111.6203596;36.7762681,-111.6265632;36.7847054,-111.6294157;35.9765679,-111.4034113;36.0117979,-111.3992425;36.012401,-111.3988294;36.0128436,-111.3978906;36.0174061,-111.3979469;36.0186926,-111.3990493;36.0238577,-111.4045237;36.0257478,-111.4015407;36.0272186,-111.4007092;36.0273379,-111.4018009;36.0276351,-111.4018009;36.0274941,-111.4025143;36.0276307,-111.4033297;36.0278281,-111.4017901;36.028134,-111.4019108;36.0272109,-111.4056891;36.0285461,-111.4019055;36.0321748,-111.4060693;36.0327279,-111.4068632;36.0280472,-111.403142;35.8920057,-111.4106666;35.8943684,-111.4100944;35.8973441,-111.4119799;35.8993734,-111.4135303;35.8980828,-111.4158852;35.8990258,-111.4167435;35.9000296,-111.4165773;35.901607,-111.4154775;35.9044536,-111.4127721;35.9128059,-111.4157633;35.9151868,-111.4157074;35.9319488,-111.4149815;36.0293341,-111.3974326;35.8838084,-111.4044051;35.9544831,-111.3964167;36.0361835,-111.3947554;36.0365523,-111.3928617;36.0397595,-111.3941224;36.0687663,-111.3888965;36.0672573,-111.3887141;36.1714807,-111.388002;36.1801192,-111.380146;36.3721966,-111.5125925;36.3717927,-111.512563;36.3762361,-111.5136722;36.3807359,-111.5178277;36.3828643,-111.5179219;36.3790334,-111.5207773;36.3819655,-111.5227364;36.382163,-111.5234762;36.3831261,-111.5235567;36.38364,-111.5240985;36.3838991,-111.5253001;36.386484,-111.5367463;36.3880004,-111.5346951;36.3883437,-111.5339843;36.3882508,-111.5353254;36.3894456,-111.5367453;36.3892205,-111.5289682;36.3896437,-111.5277854;36.3888988,-111.5277183;36.3883136,-111.5257254;36.3871676,-111.5287069;36.3872259,-111.5278567;36.3870791,-111.527001;36.3863082,-111.5264834;36.3873377,-111.5244777;36.3870203,-111.5248827;36.3851374,-111.5234611;36.3855973,-111.5240686;36.385945,-111.5246104;36.3857118,-111.5250074;36.3861203,-111.5191724;36.38731,-111.5201031;36.3892612,-111.5210063;36.3898118,-111.5221355;36.3929419,-111.5229604;36.3925878,-111.5171668;36.3942719,-111.5150802;36.3950599,-111.5162603;36.3948569,-111.5169577;36.3972474,-111.5159436;36.3938694,-111.5220295;36.3924746,-111.5210585;36.3915412,-111.5176674;36.3922257,-111.5217953;36.3932107,-111.5211231;36.3939448,-111.520113;36.3939729,-111.5206629;36.3944078,-111.5190267;36.3968434,-111.5230615;36.3974393,-111.523142;36.3983629,-111.5240407;36.4059275,-111.5380546;36.4098602,-111.54044;36.413388,-111.5422787;36.4137053,-111.5427588;36.4147553,-111.5426086;36.4151684,-111.5430178;36.4160749,-111.543447;36.415224,-111.5435918;36.417166,-111.5439726;36.4184092,-111.5444473;36.4188162,-111.5460819;36.4194119,-111.5453979;36.4199853,-111.5462139;36.4207535,-111.5457878;36.4212093,-111.5456017;36.4218395,-111.5458083;36.4231304,-111.5462718;36.4360951,-111.5460061;36.4410102,-111.5515986;36.4574562,-111.5703993;36.4604404,-111.5627544;36.4609732,-111.5630226;36.4694627,-111.565715;36.4692523,-111.5682073;36.4710653,-111.5675151;36.4721083,-111.5724509;36.4749736,-111.5701012;36.4772514,-111.5683044;36.4763744,-111.5735773;36.4842206,-111.5788373;36.4852147,-111.5789982;36.4868496,-111.5745741;36.4870609,-111.5737399;36.4880385,-111.574339;36.4888973,-111.5744098;36.489368,-111.579027;36.4913786,-111.5755546;36.4923232,-111.5764853;36.4924612,-111.574192;36.4928532,-111.5745631;36.496152,-111.5827242;36.4970785,-111.5841091;36.496275,-111.5780704;36.4969218,-111.5779819;36.4988344,-111.5746129;36.4988085,-111.5763349;36.499921,-111.5764798;36.5007274,-111.5735883;36.5004005,-111.5834517;36.5039519,-111.6005709;36.5085222,-111.6105841;36.512729,-111.6085419;36.5135137,-111.6055271;36.516158,-111.6104838;36.5169358,-111.6096866;36.5167116,-111.6097483;36.5178092,-111.5916662;36.5256557,-111.5965084;36.5272162,-111.5960631;36.5282147,-111.597018;36.5316776,-111.6088985;36.5387633,-111.6131901;36.547554,-111.6216099;36.5481703,-111.6224735;36.5565769,-111.6203988;36.5539447,-111.6272233;36.5641667,-111.6330069;36.5672085,-111.6312044;36.568445,-111.6321539;36.5818846,-111.6407905;36.586336,-111.643617;36.5948714,-111.6508204;36.6046324,-111.6569497;36.6077082,-111.6526524;36.6085781,-111.6570727;36.6105263,-111.6527651;36.6112971,-111.6564771;36.6109316,-111.6572814;36.6105964,-111.6718972;36.6250255,-111.6645193;36.6134846,-111.6568652;36.6321041,-111.6455115;36.6206367,-111.657775;36.3034648,-111.462378;36.1605228,-111.3699967;36.1304447,-111.3196548;36.1313394,-111.3194483;36.1309278,-111.3207035;36.1303342,-111.3206821;36.1294547,-111.3208376;36.1306808,-111.3215216;36.1301566,-111.3216208;36.1313112,-111.3222646;36.1307718,-111.3219212;36.1320039,-111.3197226;36.1316507,-111.3208652;36.1317851,-111.3178925;36.1319085,-111.3159535;36.1317937,-111.3150281;36.1375121,-111.337768;36.1383092,-111.3373656;36.1384294,-111.3383393;36.1375251,-111.3382159;36.137055,-111.3385431;36.1359308,-111.3370867;36.1369034,-111.3370545;36.1361087,-111.3406542;36.1397434,-111.3361787;36.1396001,-111.3211643&destinations=36.033838,-111.441434;36.1937989,-111.3821009;35.8744329,-111.4136128;36.3008941,-111.442822;36.6060961,-111.6597396;36.2116181,-111.3897822;36.0029324,-111.5745855;36.1660724,-111.3900437;36.7744507,-111.6214955;36.1894903,-111.3951429;36.3941152,-111.4183103;36.3041365,-111.4582856;36.2299773,-111.5318328;36.3123467,-111.6594875;36.3886316,-111.7517208;36.3886414,-111.6342124;36.3170668,-111.5009965;36.0159863,-111.5632034;36.3022991,-111.6652341;36.2014489,-111.4657894;36.3333207,-111.6579324;36.325722,-111.6626257;36.3063295,-111.5446205;36.3831526,-111.6482793;36.4038276,-111.7014576;36.3740948,-111.7322789;36.3679377,-111.756126;36.0270007,-111.566361;36.3489841,-111.7583787;35.9772581,-111.6228374;35.9671291,-111.6256406;36.2299343,-111.5504897;36.5454298,-111.7010668;36.5698763,-111.7472876;36.4847627,-111.7678936;36.4874611,-111.6829003;36.3253074,-111.7964573;36.531638,-111.6796259;36.6473762,-111.7128359;36.52424,-111.7085478;36.5474629,-111.6690894;36.495976,-111.8241424;36.4740208,-111.768293;36.307584,-111.8011228;36.4417919,-111.7998584;36.3791734,-111.8061332;36.1538571,-111.492383;36.3714641,-111.6916921;36.3787025,-111.7851577;36.3319888,-111.594685;36.3298669,-111.5918955;36.2531551,-111.4778547;36.3470813,-111.6473187;36.3288833,-111.5896689;36.2420497,-111.4647165;36.3292532,-111.5939716;36.2899986,-111.4913975;36.2435202,-111.5490525;36.233197,-111.4778724;36.1702047,-111.433258;36.1346793,-111.4246574;36.2098137,-111.4706871;36.1191539,-111.5560623;36.2168232,-111.4828259;36.0312541,-111.53935;36.0246536,-111.5657709;36.287046,-111.6549594;36.2717931,-111.6835316;36.2748009,-111.7053257;36.2288055,-111.6779816;36.2753903,-111.756124;36.3490325,-111.7733594;36.3578269,-111.735737;36.4346079,-111.6690331;36.4112565,-111.7004527;36.4366278,-111.6795343;35.9385298,-111.561674;35.9476157,-111.5665238;36.3055426,-111.7021007;36.3772102,-111.6048753;36.2769843,-111.7788865;35.9946056,-111.5974835;35.9356644,-111.5912691;35.9735248,-111.6077142;35.9815281,-111.645994;35.9820521,-111.6642902;36.0136822,-111.6488817;36.0240244,-111.6234215;36.0503694,-111.6181636;36.0661937,-111.5759874;36.0732724,-111.5733991;36.1074609,-111.560187;36.1893885,-111.5016803;36.2159079,-111.5230297;36.2313435,-111.6457532;36.2855245,-111.7229275;36.2969332,-111.7448867;36.217215,-111.6258092;36.0122554,-111.6119109;36.0824069,-111.4982812;36.0929371,-111.4811963;36.3538576,-111.701709;36.09931,-111.6243377;36.3342339,-111.5979332;36.1172465,-111.5894057;36.235845,-111.5046985;36.240854,-111.5200649;36.391589,-111.5660797;36.4065761,-111.5557661;36.3932462,-111.533675;36.4119963,-111.5750225;36.4135182,-111.5711066;36.4278263,-111.5922458;36.4539287,-111.6542102;36.4657363,-111.639373;36.4744687,-111.6695998;36.5013022,-111.7262411;36.0428565,-111.6323089;36.0878744,-111.6032435;36.0929423,-111.6134725;36.0729661,-111.4943482;36.0912158,-111.5108417;36.1742045,-111.6040911;36.2009001,-111.5813715;36.0706751,-111.4680683;36.6249696,-111.7161323;36.6421204,-111.7395518;35.9737999,-111.5842936;35.9988739,-111.5731981;36.231218,-111.7929705;36.2198171,-111.6482662;36.4546734,-111.6873946;36.386902,-111.5172949;36.4231434,-111.5484122;35.9850052,-111.391849;36.4587077,-111.568064;35.8862654,-111.3976759&travelMode=driving&key=AnK9Ost7gjsh56L-5NHSum1ZZ9re_82Q6txtVLpLHpex708K3_mXHclAyUJPnldt\n"
     ]
    }
   ],
   "source": [
    "[\n",
    "    {\n",
    "        \"authenticationResultCode\": \"ValidCredentials\",\n",
    "        \"brandLogoUri\": \"http://dev.virtualearth.net/Branding/logo_powered_by.png\",\n",
    "        \"copyright\": \"Copyright © 2023 Microsoft and its suppliers. All rights \"\n",
    "        \"reserved. This API cannot be accessed and the content and any \"\n",
    "        \"results may not be used, reproduced or transmitted in any \"\n",
    "        \"manner without express written permission from Microsoft \"\n",
    "        \"Corporation.\",\n",
    "        \"resourceSets\": [\n",
    "            {\n",
    "                \"estimatedTotal\": 1,\n",
    "                \"resources\": [\n",
    "                    {\n",
    "                        \"__type\": \"DistanceMatrix:http://schemas.microsoft.com/search/local/ws/rest/v1\",\n",
    "                        \"destinations\": [{\"latitude\": 36.63, \"longitude\": -111.65}],\n",
    "                        \"origins\": [\n",
    "                            {\"latitude\": 36.03, \"longitude\": -111.44},\n",
    "                            {\"latitude\": 36.28, \"longitude\": -111.68},\n",
    "                        ],\n",
    "                        \"results\": [\n",
    "                            {\n",
    "                                \"destinationIndex\": 0,\n",
    "                                \"originIndex\": 0,\n",
    "                                \"totalWalkDuration\": 0,\n",
    "                                \"travelDistance\": 73.363,\n",
    "                                \"travelDuration\": 40.4833,\n",
    "                            },\n",
    "                            {\n",
    "                                \"destinationIndex\": 0,\n",
    "                                \"originIndex\": 1,\n",
    "                                \"totalWalkDuration\": 0,\n",
    "                                \"travelDistance\": 53.429,\n",
    "                                \"travelDuration\": 65.7,\n",
    "                            },\n",
    "                        ],\n",
    "                    }\n",
    "                ],\n",
    "            }\n",
    "        ],\n",
    "        \"statusCode\": 200,\n",
    "        \"statusDescription\": \"OK\",\n",
    "        \"traceId\": \"d2b590f1fcb84de2be0af4d7ddae9c5c|CH0001B043|0.0.0.0|CHI001B78C\",\n",
    "    }\n",
    "    # ...\n",
    "]"
   ]
  },
  {
   "cell_type": "markdown",
   "metadata": {},
   "source": [
    "### Exporting Raw Results"
   ]
  },
  {
   "cell_type": "code",
   "execution_count": 44,
   "metadata": {},
   "outputs": [],
   "source": [
    "with open(\"Water Optimization/travel_analysis/bing_raw_results.json\", \"w\") as outfile:\n",
    "    outfile.write(json.dumps(results, indent=4))"
   ]
  },
  {
   "cell_type": "code",
   "execution_count": 77,
   "metadata": {},
   "outputs": [],
   "source": [
    "for result in results:\n",
    "    resource = result[\"resourceSets\"][0][\"resources\"][0]\n",
    "    dest = (\n",
    "        resource[\"destinations\"][0][\"latitude\"],\n",
    "        resource[\"destinations\"][0][\"longitude\"],\n",
    "    )\n",
    "    orig = (resource[\"origins\"][0][\"latitude\"], resource[\"origins\"][0][\"longitude\"])\n",
    "    duration = resource[\"results\"][0][\"travelDuration\"]\n",
    "    pprint(resource)"
   ]
  },
  {
   "cell_type": "markdown",
   "metadata": {},
   "source": [
    "### Formatting Results"
   ]
  },
  {
   "cell_type": "code",
   "execution_count": null,
   "metadata": {},
   "outputs": [],
   "source": [
    "# To format into # of mins. e.g. input times \"23 mins\" or \"1 hour 3 mins\"\n",
    "def format_time(time: str) -> int:\n",
    "    min_index = time.index(\"min\")\n",
    "    if \"hour\" in time:\n",
    "        hr_index = time.index(\"hour\")\n",
    "        time = int(time[:hr_index]) * 60 + int(time[hr_index + len(\"hour\") : min_index])\n",
    "    else:\n",
    "        time = int(time[:min_index])\n",
    "\n",
    "    return time"
   ]
  },
  {
   "cell_type": "code",
   "execution_count": null,
   "metadata": {},
   "outputs": [],
   "source": [
    "# 341 (origins) X 5 (destinations)\n",
    "time_matrix = np.zeros((len(origs), len(dests)), int)\n",
    "\n",
    "orig_i = 0\n",
    "for res_obj in raw_results:\n",
    "    res = json.loads(res_obj.text)\n",
    "    for i, dest_infos in enumerate(res[\"rows\"]):\n",
    "        for dest_i, travel_info in enumerate(res[\"rows\"][i][\"elements\"]):\n",
    "            time_matrix[orig_i, dest_i] = format_time(travel_info[\"duration\"][\"text\"])\n",
    "        orig_i += 1\n",
    "\n",
    "for i, col in enumerate(time_matrix.T):\n",
    "    origs.assign(**{dests[\"Name\"].iloc[i] + \" Travel Time (min.)\": col})\n",
    "\n",
    "origs.to_excel(\"formatted_data.xlsx\", index=False)"
   ]
  },
  {
   "cell_type": "markdown",
   "metadata": {},
   "source": [
    "### Computing Analyses"
   ]
  },
  {
   "cell_type": "code",
   "execution_count": null,
   "metadata": {},
   "outputs": [],
   "source": [
    "median_times = np.median(time_matrix, axis=1)\n",
    "mean_times = np.mean(time_matrix, axis=1)\n",
    "\n",
    "origs = origs.assign(**{\"Median\": median_times.tolist()})\n",
    "origs = origs.assign(**{\"Mean\": mean_times.tolist()})\n",
    "\n",
    "origs.to_excel(\"formatted_data.xlsx\", index=False)"
   ]
  },
  {
   "cell_type": "markdown",
   "metadata": {},
   "source": [
    "### Analyses Figures\n",
    "IDK how to neatly plot in the same figure, so two cells each for mean and median."
   ]
  },
  {
   "cell_type": "code",
   "execution_count": null,
   "metadata": {},
   "outputs": [],
   "source": [
    "fig = plt.figure()\n",
    "ax1 = fig.add_subplot()\n",
    "n, bins, patches = ax1.hist(\n",
    "    median_times, bins=20, weights=np.ones(len(mean_times)) / len(mean_times)\n",
    ")\n",
    "\n",
    "plt.title(\"Homes and Corrals vs. Median Travel Time\")\n",
    "plt.xlabel(\"Median Travel Time to Watering Points (mins.)\")\n",
    "plt.ylabel(\"% of All Homes/Corrals\")"
   ]
  },
  {
   "cell_type": "code",
   "execution_count": null,
   "metadata": {},
   "outputs": [],
   "source": [
    "fig = plt.figure()\n",
    "ax2 = fig.add_subplot()\n",
    "n, bins, patches = ax2.hist(\n",
    "    mean_times, bins=20, weights=np.ones(len(mean_times)) / len(mean_times)\n",
    ")\n",
    "\n",
    "plt.title(\"Homes and Corrals vs. Mean Travel Time\")\n",
    "plt.xlabel(\"Mean Travel Time to Watering Points (mins.)\")\n",
    "plt.ylabel(\"% of All Homes/Corrals\")"
   ]
  },
  {
   "cell_type": "code",
   "execution_count": null,
   "metadata": {},
   "outputs": [],
   "source": [
    "print(\n",
    "    f\"\"\"\n",
    "      | Other Information |\n",
    "      Number of origins: {len(origs)}\n",
    "      Number of destinations: {len(dests)}\n",
    "      Standard deviation of median times: {np.std(median_times)}\n",
    "      Standard deviation of mean times: {np.std(mean_times)}\n",
    "      \"\"\"\n",
    ")"
   ]
  },
  {
   "cell_type": "markdown",
   "metadata": {},
   "source": [
    "## Geoplotting"
   ]
  },
  {
   "cell_type": "code",
   "execution_count": null,
   "metadata": {},
   "outputs": [],
   "source": [
    "boundary_points = None\n",
    "with open(\"travel_analysis/boundary.txt\") as f:\n",
    "    point_strs = f.readlines()[0].split(\", \")\n",
    "    boundary_points = np.empty((len(point_strs), 2), dtype=tuple)\n",
    "    for i, point_str in enumerate(point_strs):\n",
    "        p = point_str.split(\" \")\n",
    "        boundary_points[i] = np.array([float(p[0]), float(p[1])])"
   ]
  },
  {
   "cell_type": "code",
   "execution_count": null,
   "metadata": {},
   "outputs": [],
   "source": [
    "# Hover labels for plot points\n",
    "orig_labels = (\n",
    "    origs[\"Name\"]\n",
    "    + \", \"\n",
    "    + origs[\"Type\"]\n",
    "    + \". Min: \"\n",
    "    + time_matrix.min(axis=1).astype(str)\n",
    ")\n",
    "dest_labels = dests[\"Name\"] + \", \" + dests[\"Type\"]\n",
    "\n",
    "# Origins (Homes and Corrals)\n",
    "fig = go.Figure(\n",
    "    data=go.Scattergeo(\n",
    "        # locationmode='USA-states',\n",
    "        lat=origs[\"Latitude\"],\n",
    "        lon=origs[\"Longitude\"],\n",
    "        text=orig_labels,\n",
    "        marker=dict(\n",
    "            line=dict(width=1, color=\"rgba(102, 102, 102)\"),\n",
    "            # colorscale='Blues',\n",
    "            cmin=0,\n",
    "            color=time_matrix.min(axis=1),\n",
    "            cmax=time_matrix.min(axis=1).max(),\n",
    "            colorbar_title=\"Minimum Time (min.)\",\n",
    "        ),\n",
    "    )\n",
    ")\n",
    "\n",
    "# Destinations (Watering Points)\n",
    "fig.add_trace(\n",
    "    go.Scattergeo(\n",
    "        lat=dests[\"Latitude\"],\n",
    "        lon=dests[\"Longitude\"],\n",
    "        text=dest_labels,\n",
    "        marker=dict(symbol=\"square\", line=dict(width=1, color=\"rgba(102, 102, 102)\")),\n",
    "    )\n",
    ")\n",
    "\n",
    "# Chapter Border\n",
    "fig.add_trace(\n",
    "    go.Scattergeo(lat=boundary_points[:, 1], lon=boundary_points[:, 0], mode=\"lines\")\n",
    ")\n",
    "fig.update_geos(fitbounds=\"locations\")\n",
    "fig.update_layout(legend_orientation=\"h\", mapbox_style=\"open-street-map\")\n",
    "fig.show()"
   ]
  },
  {
   "cell_type": "code",
   "execution_count": null,
   "metadata": {},
   "outputs": [],
   "source": [
    "fig = px.scatter_mapbox(\n",
    "    origs,\n",
    "    lat=\"Latitude\",\n",
    "    lon=\"Longitude\",\n",
    "    hover_name=\"Name\",\n",
    "    hover_data=[\"Type\"],\n",
    "    color_discrete_sequence=[\"fuchsia\"],\n",
    ")\n",
    "fig.add_trace(\n",
    "    go.Scattergeo(lat=boundary_points[:, 1], lon=boundary_points[:, 0], mode=\"lines\")\n",
    ")\n",
    "fig.update_layout(\n",
    "    margin={\"r\": 0, \"t\": 0, \"l\": 0, \"b\": 0}, mapbox_style=\"open-street-map\"\n",
    ")\n",
    "fig.show()"
   ]
  },
  {
   "cell_type": "code",
   "execution_count": null,
   "metadata": {},
   "outputs": [],
   "source": [
    "print(orig_labels)"
   ]
  },
  {
   "cell_type": "code",
   "execution_count": null,
   "metadata": {},
   "outputs": [],
   "source": [
    "fig = go.Figure(\n",
    "    data=go.Contour(\n",
    "        z=time_matrix.min(axis=1),\n",
    "        x=origs[\"Latitude\"],\n",
    "        y=origs[\"Longitude\"],\n",
    "        colorscale=\"Hot\",\n",
    "        contours_coloring=\"heatmap\",\n",
    "    )\n",
    ")\n",
    "\n",
    "fig.show()"
   ]
  },
  {
   "cell_type": "markdown",
   "metadata": {},
   "source": [
    "## Countour Plot"
   ]
  },
  {
   "cell_type": "code",
   "execution_count": null,
   "metadata": {},
   "outputs": [],
   "source": [
    "fig = go.Figure()\n",
    "\n",
    "fig.add_trace(\n",
    "    go.Carpet(\n",
    "        a=[0, 1, 2, 3, 0, 1, 2, 3, 0, 1, 2, 3],\n",
    "        b=[4, 4, 4, 4, 5, 5, 5, 5, 6, 6, 6, 6],\n",
    "        x=[2, 3, 4, 5, 2.2, 3.1, 4.1, 5.1, 1.5, 2.5, 3.5, 4.5],\n",
    "        y=[1, 1.4, 1.6, 1.75, 2, 2.5, 2.7, 2.75, 3, 3.5, 3.7, 3.75],\n",
    "        aaxis=dict(tickprefix=\"a = \", smoothing=0, minorgridcount=9, type=\"linear\"),\n",
    "        baxis=dict(tickprefix=\"b = \", smoothing=0, minorgridcount=9, type=\"linear\"),\n",
    "    )\n",
    ")\n",
    "fig.update_layout()\n",
    "fig.show()"
   ]
  }
 ],
 "metadata": {
  "kernelspec": {
   "display_name": "BodawayGap",
   "language": "python",
   "name": "python3"
  },
  "language_info": {
   "codemirror_mode": {
    "name": "ipython",
    "version": 3
   },
   "file_extension": ".py",
   "mimetype": "text/x-python",
   "name": "python",
   "nbconvert_exporter": "python",
   "pygments_lexer": "ipython3",
   "version": "3.11.1"
  },
  "orig_nbformat": 4,
  "vscode": {
   "interpreter": {
    "hash": "77423d1a0ae3338d2592a839d54a7b6fe9bcb88cc3c141029f96fe55d6e68932"
   }
  }
 },
 "nbformat": 4,
 "nbformat_minor": 2
}
