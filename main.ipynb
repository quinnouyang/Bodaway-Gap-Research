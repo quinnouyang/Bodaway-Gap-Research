{
 "cells": [
  {
   "cell_type": "markdown",
   "metadata": {},
   "source": [
    "# Setup Google Colab\n",
    "\n",
    "> You only need to do this once!"
   ]
  },
  {
   "cell_type": "code",
   "execution_count": null,
   "metadata": {},
   "outputs": [],
   "source": [
    "from google.colab import drive\n",
    "drive.mount('/content/drive')\n",
    "\n",
    "%cd gdrive/My Drive/\n",
    "!git clone https://github.com/quinnouyang/Bodaway-Gap-Research.git\n",
    "%cd Bodaway-Gap-Research\n",
    "%pip install Pyomo SciencePlots\n",
    "!wget -N -q \"https://matematica.unipv.it/gualandi/solvers/ipopt-linux64.zip\"\n",
    "!unzip -o -q ipopt-linux64"
   ]
  },
  {
   "cell_type": "markdown",
   "metadata": {},
   "source": [
    "# Sync with GitHub\n",
    "\n",
    "Fetch from remote"
   ]
  },
  {
   "cell_type": "code",
   "execution_count": null,
   "metadata": {},
   "outputs": [],
   "source": [
    "%cd Bodaway-Gap-Research\n",
    "%git pull"
   ]
  }
 ],
 "metadata": {
  "language_info": {
   "name": "python"
  }
 },
 "nbformat": 4,
 "nbformat_minor": 2
}
