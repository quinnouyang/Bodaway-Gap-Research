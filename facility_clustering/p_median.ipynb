{
 "cells": [
  {
   "cell_type": "markdown",
   "metadata": {},
   "source": [
    "# The $p$-Median Problem\n",
    "\n",
    "## Summary\n",
    "\n",
    "The goal of the $p$-median problem is to locating $p$ facilities to minimize the demand weighted average distance between demand nodes and the nearest of the selected facilities. Hakimi (1964, 1965) first considered this problem for the design of network switch centers. \n",
    "However, this problem has been used to model a wide range of applications, such as warehouse location, depot location, school districting and sensor placement.\n",
    "\n",
    "\n",
    "## Problem Statement\n",
    "\n",
    "The $p$-median problem can be formulated mathematically as an integer programming problem using the following model.  \n",
    "\n",
    "### Sets\n",
    "\n",
    " $M$ = set of candidate locations  \n",
    " $N$ = set of customer demand nodes\n",
    "\n",
    "### Parameters\n",
    "\n",
    " $p$ = number of facilities to locate  \n",
    " $d_j$ = demand of customer $j$, $\\forall j \\in N$  \n",
    " $c_{ij}$ = unit cost of satisfying customer $j$ from facility $i$, $\\forall i \\in M, \\forall j \\in N$\n",
    " \n",
    "### Variables\n",
    " $x_{ij}$ = fraction of the demand of customer $j$ that is supplied by facility $i$, $\\forall i \\in M, \\forall j \\in N$  \n",
    " $y_i$ = a binary value that is $1$ is a facility is located at location $i$, $\\forall i \\in M$\n",
    "\n",
    "### Objective\n",
    "\n",
    "Minimize the demand-weighted total cost  \n",
    " $\\min \\sum_{i \\in M} \\sum_{j \\in N} d_j c_{ij} x_{ij}$\n",
    "\n",
    "### Constraints\n",
    "\n",
    "All of the demand for customer $j$ must be satisfied  \n",
    " $\\sum_{i \\in M} x_{ij} = 1$, $\\forall j \\in N$\n",
    "\n",
    "Exactly $p$ facilities are located  \n",
    " $\\sum_{i \\in M} y_i = p$\n",
    " \n",
    "Demand nodes can only be assigned to open facilities  \n",
    " $x_{ij} \\leq y_i$, $\\forall i \\in M, \\forall j \\in N$\n",
    " \n",
    "The assignment variables must be non-negative  \n",
    " $x_{ij} \\geq 0$, $\\forall i \\in M, \\forall j \\in N$\n",
    "\n",
    "## Pyomo Formulation\n",
    "\n",
    "The following is an abstract Pyomo model for this problem:"
   ]
  },
  {
   "cell_type": "code",
   "execution_count": 1,
   "metadata": {},
   "outputs": [],
   "source": [
    "from pyomo.environ import *\n",
    "import random\n",
    "\n",
    "random.seed(1000)\n",
    "\n",
    "model = AbstractModel()\n",
    "\n",
    "# Number of candidate locations\n",
    "model.m = Param(within=PositiveIntegers)\n",
    "# Number of customers\n",
    "model.n = Param(within=PositiveIntegers)\n",
    "# Set of candidate locations\n",
    "model.M = RangeSet(1, model.m)\n",
    "# Set of customer nodes\n",
    "model.N = RangeSet(1, model.n)\n",
    "\n",
    "# Number of facilities\n",
    "model.p = Param(within=RangeSet(1, model.n))\n",
    "# d[j] - demand of customer j\n",
    "model.d = Param(model.N, default=1.0)\n",
    "# c[i,j] - unit cost of satisfying customer j from facility i\n",
    "model.c = Param(\n",
    "    model.M,\n",
    "    model.N,\n",
    "    initialize=lambda i, j, model: random.uniform(1.0, 2.0),\n",
    "    within=Reals,\n",
    ")\n",
    "\n",
    "# x[i,j] - fraction of the demand of customer j that is supplied by facility i\n",
    "model.x = Var(model.M, model.N, bounds=(0.0, 1.0))\n",
    "# y[i] - a binary value that is 1 is a facility is located at location i\n",
    "model.y = Var(model.M, within=Binary)\n",
    "\n",
    "\n",
    "# Minimize the demand-weighted total cost\n",
    "def cost_(model):\n",
    "    return sum(\n",
    "        model.d[j] * model.c[i, j] * model.x[i, j] for i in model.M for j in model.N\n",
    "    )\n",
    "\n",
    "\n",
    "model.cost = Objective(rule=cost_)\n",
    "\n",
    "\n",
    "# All of the demand for customer j must be satisfied\n",
    "def demand_(model, j):\n",
    "    return sum(model.x[i, j] for i in model.M) == 1.0\n",
    "\n",
    "\n",
    "model.demand = Constraint(model.N, rule=demand_)\n",
    "\n",
    "\n",
    "# Exactly p facilities are located\n",
    "def facilities_(model):\n",
    "    return sum(model.y[i] for i in model.M) == model.p\n",
    "\n",
    "\n",
    "model.facilities = Constraint(rule=facilities_)\n",
    "\n",
    "\n",
    "# Demand nodes can only be assigned to open facilities\n",
    "def openfac_(model, i, j):\n",
    "    return model.x[i, j] <= model.y[i]\n",
    "\n",
    "\n",
    "model.openfac = Constraint(model.M, model.N, rule=openfac_)"
   ]
  },
  {
   "cell_type": "markdown",
   "metadata": {},
   "source": [
    "****\n",
    "This model is simplified in several respects.  First, the candidate locations and customer locations are treated as numeric ranges.  Second, the demand values, $d_j$ are initialized with a default value of $1$.  Finally, the cost values, $c_{ij}$ are randomly assigned.\n",
    "\n",
    "## Model Data\n",
    "\n",
    "This model is parameterized by three values: the number of facility locations, the number of customers, and the number of facilities.  For example:"
   ]
  },
  {
   "cell_type": "code",
   "execution_count": 18,
   "metadata": {},
   "outputs": [
    {
     "name": "stdout",
     "output_type": "stream",
     "text": [
      "param m := 10;\n",
      "param n := 6;\n",
      "param p := 3;"
     ]
    }
   ],
   "source": [
    "!cat clustering/p_median.dat"
   ]
  },
  {
   "cell_type": "markdown",
   "metadata": {},
   "source": [
    "****\n",
    "\n",
    "## Solution\n",
    "\n",
    "Pyomo includes a `pyomo` command that automates the construction and optimization of models.  The GLPK solver can be used in this simple example:"
   ]
  },
  {
   "cell_type": "code",
   "execution_count": 22,
   "metadata": {},
   "outputs": [
    {
     "name": "stdout",
     "output_type": "stream",
     "text": [
      "[    0.00] Setting up Pyomo environment\n",
      "[    0.00] Applying Pyomo preprocessing actions\n",
      "[    0.00] Creating model\n",
      "[    0.01] Applying solver\n",
      "[    0.09] Processing results\n",
      "    Number of solutions: 1\n",
      "    Solution Information\n",
      "      Gap: 0.0\n",
      "      Status: optimal\n",
      "      Function Value: 6.431184939357673\n",
      "    Solver results file: results.yml\n",
      "[    0.09] Applying Pyomo postprocessing actions\n",
      "[    0.09] Pyomo Finished\n"
     ]
    }
   ],
   "source": [
    "!pyomo solve --solver=glpk clustering/p_median.py clustering/p_median.dat"
   ]
  },
  {
   "cell_type": "markdown",
   "metadata": {},
   "source": [
    "****\n",
    "\n",
    "This solution places facilities at locations 3, 6 and 9.  Facility 3 meets the demand of customer 4, facility 6 meets the demand of customers 1, 2, 3 and 5, and facility 9 meets the demand of customer 6."
   ]
  },
  {
   "cell_type": "markdown",
   "metadata": {},
   "source": [
    "## References\n",
    "\n",
    "* S.L. Hakimi (1964) Optimum location of switching centers and the absolute centers and medians of a graph. Oper Res 12:450–459\n",
    "* S.L. Hakimi (1965) Optimum distribution of switching centers in a communication network and some related graph theoretic problems. Oper Res 13:462–475"
   ]
  }
 ],
 "metadata": {
  "kernelspec": {
   "display_name": "Python 3",
   "language": "python",
   "name": "python3"
  },
  "language_info": {
   "codemirror_mode": {
    "name": "ipython",
    "version": 3
   },
   "file_extension": ".py",
   "mimetype": "text/x-python",
   "name": "python",
   "nbconvert_exporter": "python",
   "pygments_lexer": "ipython3",
   "version": "3.11.1"
  }
 },
 "nbformat": 4,
 "nbformat_minor": 1
}
