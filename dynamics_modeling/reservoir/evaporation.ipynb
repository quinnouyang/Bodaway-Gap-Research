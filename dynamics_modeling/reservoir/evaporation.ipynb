{
 "cells": [
  {
   "cell_type": "code",
   "execution_count": 23,
   "metadata": {},
   "outputs": [],
   "source": [
    "from dynamics_modeling.utils import *\n",
    "\n",
    "import numpy as np\n",
    "import pandas as pd\n",
    "import matplotlib.pyplot as plt\n",
    "import scienceplots as _\n",
    "\n",
    "plt.style.use(\"ieee\")"
   ]
  },
  {
   "cell_type": "markdown",
   "metadata": {},
   "source": [
    "# Daily and Weekly Evaporation"
   ]
  },
  {
   "cell_type": "code",
   "execution_count": 25,
   "metadata": {},
   "outputs": [],
   "source": [
    "PAN_COEFF = 0.8\n",
    "IN_TO_M = 0.0254\n",
    "\n",
    "# https://wrcc.dri.edu/Climate/comp_table_show.php?stype=pan_evap_avg\n",
    "pan_monthly_evap = np.array(\n",
    "    [\n",
    "        2.45,  # Interpolated (originally 0.00)\n",
    "        2.60,\n",
    "        5.84,\n",
    "        8.27,\n",
    "        10.72,\n",
    "        12.86,\n",
    "        13.06,\n",
    "        11.38,\n",
    "        8.42,\n",
    "        5.13,\n",
    "        2.29,\n",
    "        2.45,  # Interpolated (originally 0.00)\n",
    "    ]\n",
    ")  # (in)\n",
    "\n",
    "monthly_evap = PAN_COEFF * IN_TO_M * pan_monthly_evap  # (m)\n",
    "\n",
    "# Stepwise-interpolated daily rate (30 * 12 + 6 = 366)\n",
    "daily_evap_df = pd.DataFrame(\n",
    "    {\n",
    "        \"time\": list(range(1, 367)),\n",
    "        \"evap\": np.concatenate(\n",
    "            (np.repeat(monthly_evap, 30), np.repeat(monthly_evap[-1], 6))\n",
    "        ),\n",
    "    }\n",
    ")\n",
    "\n",
    "# Stepwise-interpolated weekly rate (6 * (5 + 4) - 1 = 53)\n",
    "weekly_evap_df = pd.DataFrame(\n",
    "    {\n",
    "        \"time\": list(range(1, 54)),\n",
    "        \"evap\": np.repeat(monthly_evap, [5, 4, 5, 4, 5, 4, 5, 4, 5, 4, 4, 4]),\n",
    "    }\n",
    ")\n",
    "\n",
    "monthly_evap_df = pd.DataFrame(\n",
    "    {\"time\": list(range(1, 13)), \"evap\": monthly_evap}\n",
    ")\n",
    "\n",
    "monthly_evap_df.to_csv(\"./dynamics_modeling/evap_monthly.csv\")\n",
    "daily_evap_df.to_csv(\"./dynamics_modeling/evap_daily.csv\")\n",
    "weekly_evap_df.to_csv(\"./dynamics_modeling/evap_weekly.csv\")"
   ]
  }
 ],
 "metadata": {
  "kernelspec": {
   "display_name": "CERG",
   "language": "python",
   "name": "python3"
  },
  "language_info": {
   "codemirror_mode": {
    "name": "ipython",
    "version": 3
   },
   "file_extension": ".py",
   "mimetype": "text/x-python",
   "name": "python",
   "nbconvert_exporter": "python",
   "pygments_lexer": "ipython3",
   "version": "3.11.6"
  }
 },
 "nbformat": 4,
 "nbformat_minor": 2
}
