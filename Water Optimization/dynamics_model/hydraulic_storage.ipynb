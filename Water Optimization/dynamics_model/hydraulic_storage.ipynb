{
 "cells": [
  {
   "cell_type": "code",
   "execution_count": 3,
   "metadata": {},
   "outputs": [],
   "source": [
    "from pyomo.environ import (\n",
    "    SolverFactory,\n",
    "    AbstractModel,\n",
    "    Param,\n",
    "    Set,\n",
    "    Var,\n",
    "    Objective,\n",
    "    Constraint,\n",
    ")\n",
    "from pyomo.core import NonNegativeIntegers, PositiveIntegers, PositiveReals, Any, NonNegativeReals, Binary  # type: ignore\n",
    "import numpy as np\n",
    "import pandas as pd\n",
    "import matplotlib.pyplot as plt\n",
    "from typing import Tuple\n",
    "\n",
    "Point = Tuple[float, float]\n",
    "Points = list[Point]\n",
    "\n",
    "solver = SolverFactory(\"glpk\")\n"
   ]
  },
  {
   "attachments": {},
   "cell_type": "markdown",
   "metadata": {},
   "source": [
    "## Storage Problem/System Summary\n",
    "\n",
    "$$\n",
    "\\begin{aligned}\n",
    "  &\\text{min} \\sum_{t=0}^T w(t) \\\\\n",
    "  &\\text{s.t.} \\\\\n",
    "  &t = \\{1, 2, ..., T\\} \\text{ as time points} \\\\\n",
    "  &\\text{$s(t)$ as reservoir storage, $a(t)$ as surface area, $r(t)$ as rainfall, } \\\\\n",
    "  &\\text{$e(t)$ as evaporation, $q(t)$ as pumping amount, $w(t)$ as overflow at or over time $t$} \\\\\n",
    "  &s(t + 1) = s(t) + r(t) - e(t)- q(t) - w(t), \\forall t \\\\\n",
    "  &\\text{$s(t) \\leq \\bar S$ for maximum capacity, $a(t) \\leq \\bar A$ as maximum surface area, and $q(t) \\leq \\bar Q$ as maximum pumping rate} \\\\\n",
    "  &r(t) = A_c p(t) \\text{ where $A_c$ is a constant catchment area and $p(t)$ is precipitation} \\\\\n",
    "  &e(t) = a(t) e_0(t) \\text{ where $e_0(t)$ is the evaporation coefficient at time $t$} \\\\\n",
    "  &s(t) = c_1 a(t) ^ {c_2} \\text{(power law relationship with constants)}\n",
    "\\end{aligned}\n",
    "$$\n"
   ]
  },
  {
   "cell_type": "code",
   "execution_count": 27,
   "metadata": {},
   "outputs": [],
   "source": [
    "model = AbstractModel()\n",
    "\n",
    "model.T = Set(domain=NonNegativeIntegers)  # Time\n",
    "\n",
    "# Constant Input Parameters\n",
    "c1 = Param(domain=PositiveReals)  # Scalar constant c1\n",
    "c2 = Param(domain=PositiveReals)  # Scalar constant c2\n",
    "A_c = Param(domain=PositiveReals)  # Catchment area in square meters\n",
    "S_max = Param(domain=PositiveReals)  # Maximum storage capacity\n",
    "A_max = Param(domain=PositiveReals)  # Maximum free surface area\n",
    "Q_max = Param(domain=NonNegativeReals)  # Upper limit for pumping rate\n",
    "\n",
    "# Time-varying Input Parameters\n",
    "model.P = Param(model.T, domain=NonNegativeReals)  # Precipitation\n",
    "model.E_coeff = Param(model.T, domain=NonNegativeReals)  # Evaporation coefficients\n",
    "\n",
    "# Calculated Parameters\n",
    "model.R = Param(  # Rainfall\n",
    "    model.T,\n",
    "    default=lambda model, t: model.A_c * model.P[t],\n",
    "    within=NonNegativeReals,\n",
    ")\n",
    "\n",
    "# Optimizeable Variables\n",
    "model.S = Var(model.T, domain=NonNegativeReals)  # Storage\n",
    "model.E = Var(model.T, domain=NonNegativeReals)  # Evaporation\n",
    "model.A = Var(model.T, domain=NonNegativeReals)  # Surface area\n",
    "model.Q = Var(model.T, domain=NonNegativeReals)  # Pumping\n",
    "model.W = Var(model.T, domain=NonNegativeReals)  # Overflow\n",
    "\n",
    "# Objective\n",
    "model.min_overflow = Objective(expr=lambda model: sum(model.W[t] for t in model.T))\n",
    "\n",
    "# Constraints\n",
    "model.upper_S = Constraint(model.T, rule=lambda model, t: model.S[t] <= model.S_max)\n",
    "\n",
    "model.upper_A = Constraint(model.T, rule=lambda model, t: model.A[t] <= model.A_max)\n",
    "\n",
    "model.upper_Q = Constraint(model.T, rule=lambda model, t: model.Q[t] <= model.Q_max)\n",
    "\n",
    "model.evaporation = Constraint(\n",
    "    model.T,\n",
    "    rule=lambda model, t: model.E[t] == model.E_coeff[t] ** model.A[t],\n",
    ")\n",
    "\n",
    "model.storage = Constraint(\n",
    "    model.T, rule=lambda model, t: model.S[t] == model.c1 * model.A[t] + model.c2\n",
    ")\n",
    "\n",
    "model.dynamics = Constraint(\n",
    "    model.T,\n",
    "    rule=lambda model, t: model.S[t + 1]\n",
    "    == model.S[t] + model.R[t] - model.E[t] - model.Q[t] - model.W[t],\n",
    ")"
   ]
  },
  {
   "cell_type": "code",
   "execution_count": 28,
   "metadata": {},
   "outputs": [
    {
     "name": "stdout",
     "output_type": "stream",
     "text": [
      "ERROR: Rule failed when generating expression for Constraint upper_S with\n",
      "    index 0: AttributeError: 'AbstractModel' object has no attribute 'S_max'\n",
      "ERROR: Constructing component 'upper_S' from data=None failed:\n",
      "        AttributeError: 'AbstractModel' object has no attribute 'S_max'\n"
     ]
    },
    {
     "ename": "AttributeError",
     "evalue": "'AbstractModel' object has no attribute 'S_max'",
     "output_type": "error",
     "traceback": [
      "\u001b[0;31m---------------------------------------------------------------------------\u001b[0m",
      "\u001b[0;31mAttributeError\u001b[0m                            Traceback (most recent call last)",
      "Cell \u001b[0;32mIn[28], line 17\u001b[0m\n\u001b[1;32m      1\u001b[0m len_T \u001b[39m=\u001b[39m \u001b[39m12\u001b[39m\n\u001b[1;32m      3\u001b[0m data \u001b[39m=\u001b[39m {\n\u001b[1;32m      4\u001b[0m     \u001b[39mNone\u001b[39;00m: {\n\u001b[1;32m      5\u001b[0m         \u001b[39m\"\u001b[39m\u001b[39mT\u001b[39m\u001b[39m\"\u001b[39m: {\u001b[39mNone\u001b[39;00m: \u001b[39mlist\u001b[39m(\u001b[39mrange\u001b[39m(len_T))},\n\u001b[0;32m   (...)\u001b[0m\n\u001b[1;32m     14\u001b[0m     }\n\u001b[1;32m     15\u001b[0m }\n\u001b[0;32m---> 17\u001b[0m instance \u001b[39m=\u001b[39m model\u001b[39m.\u001b[39;49mcreate_instance(data)\n\u001b[1;32m     18\u001b[0m \u001b[39m# results = solver.solve(instance)\u001b[39;00m\n\u001b[1;32m     19\u001b[0m \u001b[39m# instance.pprint()\u001b[39;00m\n",
      "File \u001b[0;32m~/.pyenv/versions/3.11.1/envs/BodawayGap/lib/python3.11/site-packages/pyomo/core/base/PyomoModel.py:697\u001b[0m, in \u001b[0;36mModel.create_instance\u001b[0;34m(self, filename, data, name, namespace, namespaces, profile_memory, report_timing, **kwds)\u001b[0m\n\u001b[1;32m    694\u001b[0m \u001b[39mif\u001b[39;00m \u001b[39mNone\u001b[39;00m \u001b[39mnot\u001b[39;00m \u001b[39min\u001b[39;00m _namespaces:\n\u001b[1;32m    695\u001b[0m     _namespaces\u001b[39m.\u001b[39mappend(\u001b[39mNone\u001b[39;00m)\n\u001b[0;32m--> 697\u001b[0m instance\u001b[39m.\u001b[39;49mload( data,\n\u001b[1;32m    698\u001b[0m                namespaces\u001b[39m=\u001b[39;49m_namespaces,\n\u001b[1;32m    699\u001b[0m                profile_memory\u001b[39m=\u001b[39;49mprofile_memory )\n\u001b[1;32m    701\u001b[0m \u001b[39m#\u001b[39;00m\n\u001b[1;32m    702\u001b[0m \u001b[39m# Indicate that the model is concrete/constructed\u001b[39;00m\n\u001b[1;32m    703\u001b[0m \u001b[39m#\u001b[39;00m\n\u001b[1;32m    704\u001b[0m instance\u001b[39m.\u001b[39m_constructed \u001b[39m=\u001b[39m \u001b[39mTrue\u001b[39;00m\n",
      "File \u001b[0;32m~/.pyenv/versions/3.11.1/envs/BodawayGap/lib/python3.11/site-packages/pyomo/core/base/PyomoModel.py:734\u001b[0m, in \u001b[0;36mModel.load\u001b[0;34m(self, arg, namespaces, profile_memory)\u001b[0m\n\u001b[1;32m    732\u001b[0m     msg \u001b[39m=\u001b[39m \u001b[39m\"\u001b[39m\u001b[39mCannot load model model data from with object of type \u001b[39m\u001b[39m'\u001b[39m\u001b[39m%s\u001b[39;00m\u001b[39m'\u001b[39m\u001b[39m\"\u001b[39m\n\u001b[1;32m    733\u001b[0m     \u001b[39mraise\u001b[39;00m \u001b[39mValueError\u001b[39;00m(msg \u001b[39m%\u001b[39m \u001b[39mstr\u001b[39m( \u001b[39mtype\u001b[39m(arg) ))\n\u001b[0;32m--> 734\u001b[0m \u001b[39mself\u001b[39;49m\u001b[39m.\u001b[39;49m_load_model_data(dp,\n\u001b[1;32m    735\u001b[0m                       namespaces,\n\u001b[1;32m    736\u001b[0m                       profile_memory\u001b[39m=\u001b[39;49mprofile_memory)\n",
      "File \u001b[0;32m~/.pyenv/versions/3.11.1/envs/BodawayGap/lib/python3.11/site-packages/pyomo/core/base/PyomoModel.py:787\u001b[0m, in \u001b[0;36mModel._load_model_data\u001b[0;34m(self, modeldata, namespaces, **kwds)\u001b[0m\n\u001b[1;32m    784\u001b[0m     \u001b[39mif\u001b[39;00m component\u001b[39m.\u001b[39mctype \u001b[39mis\u001b[39;00m Model:\n\u001b[1;32m    785\u001b[0m         \u001b[39mcontinue\u001b[39;00m\n\u001b[0;32m--> 787\u001b[0m     \u001b[39mself\u001b[39;49m\u001b[39m.\u001b[39;49m_initialize_component(modeldata, namespaces, component_name, profile_memory)\n\u001b[1;32m    789\u001b[0m \u001b[39m# Note: As is, connectors are expanded when using command-line pyomo but not calling model.create(...) in a Python script.\u001b[39;00m\n\u001b[1;32m    790\u001b[0m \u001b[39m# John says this has to do with extension points which are called from commandline but not when writing scripts.\u001b[39;00m\n\u001b[1;32m    791\u001b[0m \u001b[39m# Uncommenting the next two lines switches this (command-line fails because it tries to expand connectors twice)\u001b[39;00m\n\u001b[1;32m    792\u001b[0m \u001b[39m#connector_expander = ConnectorExpander()\u001b[39;00m\n\u001b[1;32m    793\u001b[0m \u001b[39m#connector_expander.apply(instance=self)\u001b[39;00m\n\u001b[1;32m    795\u001b[0m \u001b[39mif\u001b[39;00m profile_memory \u001b[39m>\u001b[39m\u001b[39m=\u001b[39m \u001b[39m2\u001b[39m \u001b[39mand\u001b[39;00m pympler_available:\n",
      "File \u001b[0;32m~/.pyenv/versions/3.11.1/envs/BodawayGap/lib/python3.11/site-packages/pyomo/core/base/PyomoModel.py:825\u001b[0m, in \u001b[0;36mModel._initialize_component\u001b[0;34m(self, modeldata, namespaces, component_name, profile_memory)\u001b[0m\n\u001b[1;32m    821\u001b[0m     logger\u001b[39m.\u001b[39mdebug( \u001b[39m\"\u001b[39m\u001b[39mConstructing \u001b[39m\u001b[39m%s\u001b[39;00m\u001b[39m \u001b[39m\u001b[39m'\u001b[39m\u001b[39m%s\u001b[39;00m\u001b[39m'\u001b[39m\u001b[39m on \u001b[39m\u001b[39m%s\u001b[39;00m\u001b[39m from data=\u001b[39m\u001b[39m%s\u001b[39;00m\u001b[39m\"\u001b[39m,\n\u001b[1;32m    822\u001b[0m                   declaration\u001b[39m.\u001b[39m\u001b[39m__class__\u001b[39m\u001b[39m.\u001b[39m\u001b[39m__name__\u001b[39m,\n\u001b[1;32m    823\u001b[0m                   declaration\u001b[39m.\u001b[39mname, _blockName, \u001b[39mstr\u001b[39m(data) )\n\u001b[1;32m    824\u001b[0m \u001b[39mtry\u001b[39;00m:\n\u001b[0;32m--> 825\u001b[0m     declaration\u001b[39m.\u001b[39;49mconstruct(data)\n\u001b[1;32m    826\u001b[0m \u001b[39mexcept\u001b[39;00m:\n\u001b[1;32m    827\u001b[0m     err \u001b[39m=\u001b[39m sys\u001b[39m.\u001b[39mexc_info()[\u001b[39m1\u001b[39m]\n",
      "File \u001b[0;32m~/.pyenv/versions/3.11.1/envs/BodawayGap/lib/python3.11/site-packages/pyomo/core/base/constraint.py:763\u001b[0m, in \u001b[0;36mConstraint.construct\u001b[0;34m(self, data)\u001b[0m\n\u001b[1;32m    760\u001b[0m     \u001b[39melse\u001b[39;00m:\n\u001b[1;32m    761\u001b[0m         \u001b[39m# Bypass the index validation and create the member directly\u001b[39;00m\n\u001b[1;32m    762\u001b[0m         \u001b[39mfor\u001b[39;00m index \u001b[39min\u001b[39;00m \u001b[39mself\u001b[39m\u001b[39m.\u001b[39mindex_set():\n\u001b[0;32m--> 763\u001b[0m             \u001b[39mself\u001b[39m\u001b[39m.\u001b[39m_setitem_when_not_present(index, rule(block, index))\n\u001b[1;32m    764\u001b[0m \u001b[39mexcept\u001b[39;00m \u001b[39mException\u001b[39;00m:\n\u001b[1;32m    765\u001b[0m     err \u001b[39m=\u001b[39m sys\u001b[39m.\u001b[39mexc_info()[\u001b[39m1\u001b[39m]\n",
      "File \u001b[0;32m~/.pyenv/versions/3.11.1/envs/BodawayGap/lib/python3.11/site-packages/pyomo/core/base/initializer.py:304\u001b[0m, in \u001b[0;36mIndexedCallInitializer.__call__\u001b[0;34m(self, parent, idx)\u001b[0m\n\u001b[1;32m    302\u001b[0m     \u001b[39mreturn\u001b[39;00m \u001b[39mself\u001b[39m\u001b[39m.\u001b[39m_fcn(parent, \u001b[39m*\u001b[39midx)\n\u001b[1;32m    303\u001b[0m \u001b[39melse\u001b[39;00m:\n\u001b[0;32m--> 304\u001b[0m     \u001b[39mreturn\u001b[39;00m \u001b[39mself\u001b[39;49m\u001b[39m.\u001b[39;49m_fcn(parent, idx)\n",
      "Cell \u001b[0;32mIn[27], line 35\u001b[0m, in \u001b[0;36m<lambda>\u001b[0;34m(model, t)\u001b[0m\n\u001b[1;32m     32\u001b[0m model\u001b[39m.\u001b[39mmin_overflow \u001b[39m=\u001b[39m Objective(expr\u001b[39m=\u001b[39m\u001b[39mlambda\u001b[39;00m model: \u001b[39msum\u001b[39m(model\u001b[39m.\u001b[39mW[t] \u001b[39mfor\u001b[39;00m t \u001b[39min\u001b[39;00m model\u001b[39m.\u001b[39mT))\n\u001b[1;32m     34\u001b[0m \u001b[39m# Constraints\u001b[39;00m\n\u001b[0;32m---> 35\u001b[0m model\u001b[39m.\u001b[39mupper_S \u001b[39m=\u001b[39m Constraint(model\u001b[39m.\u001b[39mT, rule\u001b[39m=\u001b[39m\u001b[39mlambda\u001b[39;00m model, t: model\u001b[39m.\u001b[39mS[t] \u001b[39m<\u001b[39m\u001b[39m=\u001b[39m model\u001b[39m.\u001b[39;49mS_max)\n\u001b[1;32m     37\u001b[0m model\u001b[39m.\u001b[39mupper_A \u001b[39m=\u001b[39m Constraint(model\u001b[39m.\u001b[39mT, rule\u001b[39m=\u001b[39m\u001b[39mlambda\u001b[39;00m model, t: model\u001b[39m.\u001b[39mA[t] \u001b[39m<\u001b[39m\u001b[39m=\u001b[39m model\u001b[39m.\u001b[39mA_max)\n\u001b[1;32m     39\u001b[0m model\u001b[39m.\u001b[39mupper_Q \u001b[39m=\u001b[39m Constraint(model\u001b[39m.\u001b[39mT, rule\u001b[39m=\u001b[39m\u001b[39mlambda\u001b[39;00m model, t: model\u001b[39m.\u001b[39mQ[t] \u001b[39m<\u001b[39m\u001b[39m=\u001b[39m model\u001b[39m.\u001b[39mQ_max)\n",
      "File \u001b[0;32m~/.pyenv/versions/3.11.1/envs/BodawayGap/lib/python3.11/site-packages/pyomo/core/base/block.py:629\u001b[0m, in \u001b[0;36m_BlockData.__getattr__\u001b[0;34m(self, val)\u001b[0m\n\u001b[1;32m    625\u001b[0m     \u001b[39mreturn\u001b[39;00m _component_decorator(\n\u001b[1;32m    626\u001b[0m         \u001b[39mself\u001b[39m, ModelComponentFactory\u001b[39m.\u001b[39mget_class(val))\n\u001b[1;32m    627\u001b[0m \u001b[39m# Since the base classes don't support getattr, we can just\u001b[39;00m\n\u001b[1;32m    628\u001b[0m \u001b[39m# throw the \"normal\" AttributeError\u001b[39;00m\n\u001b[0;32m--> 629\u001b[0m \u001b[39mraise\u001b[39;00m \u001b[39mAttributeError\u001b[39;00m(\u001b[39m\"\u001b[39m\u001b[39m'\u001b[39m\u001b[39m%s\u001b[39;00m\u001b[39m'\u001b[39m\u001b[39m object has no attribute \u001b[39m\u001b[39m'\u001b[39m\u001b[39m%s\u001b[39;00m\u001b[39m'\u001b[39m\u001b[39m\"\u001b[39m\n\u001b[1;32m    630\u001b[0m                      \u001b[39m%\u001b[39m (\u001b[39mself\u001b[39m\u001b[39m.\u001b[39m\u001b[39m__class__\u001b[39m\u001b[39m.\u001b[39m\u001b[39m__name__\u001b[39m, val))\n",
      "\u001b[0;31mAttributeError\u001b[0m: 'AbstractModel' object has no attribute 'S_max'"
     ]
    }
   ],
   "source": [
    "len_T = 12\n",
    "\n",
    "data = {\n",
    "    None: {\n",
    "        \"T\": {None: list(range(len_T))},\n",
    "        \"c1\": {None: 0.5},\n",
    "        \"c2\": {None: 0.5},\n",
    "        \"A_c\": {None: 100},\n",
    "        \"S_max\": {None: 100},\n",
    "        \"A_max\": {None: 100},\n",
    "        \"Q_max\": {None: 100},\n",
    "        \"P\": {i: p for i, p in enumerate([0.5] * len_T)},\n",
    "        \"E_coeff\": {i: e_coeff for i, e_coeff in enumerate([0.7] * len_T)},\n",
    "    }\n",
    "}\n",
    "\n",
    "instance = model.create_instance(data)\n",
    "# results = solver.solve(instance)\n",
    "# instance.pprint()"
   ]
  },
  {
   "cell_type": "code",
   "execution_count": null,
   "metadata": {},
   "outputs": [],
   "source": []
  }
 ],
 "metadata": {
  "kernelspec": {
   "display_name": "BodawayGap",
   "language": "python",
   "name": "python3"
  },
  "language_info": {
   "codemirror_mode": {
    "name": "ipython",
    "version": 3
   },
   "file_extension": ".py",
   "mimetype": "text/x-python",
   "name": "python",
   "nbconvert_exporter": "python",
   "pygments_lexer": "ipython3",
   "version": "3.11.1"
  },
  "orig_nbformat": 4
 },
 "nbformat": 4,
 "nbformat_minor": 2
}
