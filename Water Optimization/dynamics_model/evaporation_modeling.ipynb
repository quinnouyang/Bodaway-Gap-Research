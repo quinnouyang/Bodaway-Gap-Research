{
 "cells": [
  {
   "cell_type": "code",
   "execution_count": 212,
   "metadata": {},
   "outputs": [],
   "source": [
    "import pandas as pd\n",
    "import numpy as np\n",
    "import matplotlib.pyplot as plt\n",
    "\n",
    "from typing import Literal\n",
    "from scipy.optimize import curve_fit"
   ]
  },
  {
   "cell_type": "markdown",
   "metadata": {},
   "source": [
    "# Evaporation Modeling (Penman's Equation vs. Pan Coefficient)\n",
    "\n",
    "## Penman's Equation\n",
    "\n",
    "$$\n",
    "\\begin{aligned}\n",
    "  & E_0 = (0.015 + 0.00042T + 10^{-6}z) (0.8R_s - 40 + 2.5Fu (T-T_d)) \\\\\n",
    "  & \\text{$T$ is the daily mean temperature (°C), $z$ is the elevation (m), $R_s$ is the solar irradiance, } \\\\\n",
    "  & \\text{$F = 1 - 8.7 \\cdot 10^-5 z$, $u$ is the windspeed at $2$m, and $T_d$ is the dewpoint temperature (°C).}\n",
    "\\end{aligned}\n",
    "$$\n",
    "\n",
    "## Pan Coefficient\n",
    "\n",
    "$$P = 0.8$$"
   ]
  },
  {
   "cell_type": "code",
   "execution_count": 213,
   "metadata": {},
   "outputs": [],
   "source": [
    "def get_mean(\n",
    "    df: pd.DataFrame,\n",
    "    time_col: str,\n",
    "    columns: str | list[str],\n",
    "    interval: Literal[\"D\", \"M\", \"Y\"],\n",
    ") -> pd.DataFrame:\n",
    "    \"\"\"\n",
    "    Returns the daily, monthly, or yearly mean of the given column(s) as a `DataFrame` with additional `day`, `month`, and `year` columns where applicable\n",
    "    \"\"\"\n",
    "\n",
    "    avg_df = pd.DataFrame(\n",
    "        df.groupby(df[time_col].dt.to_period(interval))[columns].mean()\n",
    "    )\n",
    "\n",
    "    avg_df[\"year\"] = avg_df.index.year\n",
    "    if interval != \"Y\":\n",
    "        avg_df[\"month\"] = avg_df.index.month\n",
    "    if interval == \"D\":\n",
    "        avg_df[\"day\"] = avg_df.index.day\n",
    "\n",
    "    return avg_df\n",
    "\n",
    "\n",
    "def get_range(\n",
    "    df: pd.DataFrame,\n",
    "    time_col: str,\n",
    "    columns: str | list[str],\n",
    "    interval: Literal[\"D\", \"M\", \"Y\"],\n",
    ") -> pd.DataFrame:\n",
    "    \"\"\"\n",
    "    Returns the daily, monthly, or yearly range of the given column(s) as a `DataFrame` with additional `day`, `month`, and `year` columns where applicable\n",
    "    \"\"\"\n",
    "\n",
    "    interval_df = pd.DataFrame(\n",
    "        df.groupby(df[time_col].dt.to_period(interval))[columns].max()\n",
    "        - df.groupby(df[time_col].dt.to_period(interval))[columns].min()\n",
    "    )\n",
    "\n",
    "    interval_df[\"year\"] = interval_df.index.year\n",
    "    if interval != \"Y\":\n",
    "        interval_df[\"month\"] = interval_df.index.month\n",
    "    if interval == \"D\":\n",
    "        interval_df[\"day\"] = interval_df.index.day\n",
    "\n",
    "    return interval_df\n",
    "\n",
    "\n",
    "def f_to_c(f: float) -> float:\n",
    "    return (f - 32) * 5 / 9\n",
    "\n",
    "\n",
    "def knots_to_mps(knots: float) -> float:\n",
    "    return knots * 0.514444\n",
    "\n",
    "\n",
    "def get_evaporation_rate(\n",
    "    mean_temp: float, dewp_temp: float, elev: float, solar_irr: float, wind_speed: float\n",
    ") -> float:\n",
    "    return (0.015 + 0.00042 * mean_temp + 10**-6 * elev) * (\n",
    "        0.8 * solar_irr\n",
    "        - 40\n",
    "        + 2.5 * (1.0 - 8.7 * 10**-5 * elev) * wind_speed * (mean_temp - dewp_temp)\n",
    "    )"
   ]
  },
  {
   "cell_type": "markdown",
   "metadata": {},
   "source": [
    "## Iowa Enviromental Mesnoet Data\n",
    "\n",
    "NOTE: As of 7/14/2023, we're using 0.0001 for trace reports instead of blank/empty values\n",
    "\n",
    "PGA_2005_2020 is to match with solar radiation data, wich is 01/01/2005 - 12/31/2020\n",
    "\n",
    "Query details: Arizona ASOS, PAGE MUNI, all data, 01/01/2003 - 01/01/2023, UTC, CSV, no latitude/longitude, no elevation, blank/empty values, Routine & Specials\n",
    "\n",
    "Exact API query: https://mesonet.agron.iastate.edu/cgi-bin/request/asos.py?station=PGA&data=all&year1=2003&month1=1&day1=1&year2=2023&month2=1&day2=1&tz=Etc%2FUTC&format=onlycomma&latlon=no&elev=no&missing=empty&trace=empty&direct=yes&report_type=3&report_type=4"
   ]
  },
  {
   "cell_type": "code",
   "execution_count": 214,
   "metadata": {},
   "outputs": [
    {
     "name": "stdout",
     "output_type": "stream",
     "text": [
      "NaN values:\n",
      "valid        0\n",
      "tmpf       137\n",
      "dwpf       233\n",
      "sknt      2485\n",
      "p01i     58517\n",
      "dtype: int64\n",
      "Total values (removed NaN): 85370\n"
     ]
    }
   ],
   "source": [
    "SURFACE_AREA = 19991.22\n",
    "ELEVATION = 1815\n",
    "LATITUDE = 36.33385606273248\n",
    "CATCHMENT_AREA = 482970.15  # (m^2), from loading GEOJSON to http://geojson.io/\n",
    "\n",
    "pga_df = pd.read_csv(\n",
    "    \"Water Optimization/dynamics_model/PGA_2005_2020.csv\",\n",
    "    usecols=[\"valid\", \"tmpf\", \"dwpf\", \"sknt\", \"p01i\"],\n",
    "    header=0,\n",
    "    dtype={\n",
    "        \"valid\": \"string\",  # Datetime. Consider \"datetime64[ns, UTC]\"\n",
    "        \"tmpf\": \"Float32\",  # Temperature (°F)\n",
    "        \"dwpf\": \"Float32\",  # Dewpoint (°F)\n",
    "        \"sknt\": \"Float32\",  # Wind speed (knots)\n",
    "        \"p01i\": \"Float32\",  # Precipitation in last hr (mm)\n",
    "    },\n",
    ")\n",
    "\n",
    "pga_df[\"valid\"] = pd.to_datetime(pga_df[\"valid\"], utc=True)\n",
    "pga_df[\"valid\"] = pga_df[\"valid\"].dt.tz_localize(None)  # Remove timezone information\n",
    "pga_df = pga_df.convert_dtypes()\n",
    "\n",
    "print(f\"NaN values:\")  # TODO: Consider interpolating\n",
    "print(pga_df.isna().sum())\n",
    "pga_df = pga_df.dropna()\n",
    "print(f\"Total values (removed NaN): {pga_df.shape[0]}\")\n",
    "\n",
    "\n",
    "pga_df[\"tmpc\"] = pga_df[\"tmpf\"].apply(f_to_c)\n",
    "pga_df[\"dwpc\"] = pga_df[\"dwpf\"].apply(f_to_c)\n",
    "pga_df[\"smps\"] = pga_df[\"sknt\"].apply(knots_to_mps)\n",
    "\n",
    "pga_df.describe()\n",
    "\n",
    "# https://wrcc.dri.edu/Climate/comp_table_show.php?stype=pan_evap_avg\n",
    "pan_m_df = pd.DataFrame(\n",
    "    {\n",
    "        \"month\": [1, 2, 3, 4, 5, 6, 7, 8, 9, 10, 11, 12],\n",
    "        \"evap\": [\n",
    "            0.00,\n",
    "            2.60,\n",
    "            5.84,\n",
    "            8.27,\n",
    "            10.72,\n",
    "            12.86,\n",
    "            13.06,\n",
    "            11.38,\n",
    "            8.42,\n",
    "            5.13,\n",
    "            2.29,\n",
    "            0.00,\n",
    "        ],\n",
    "    }\n",
    ")\n",
    "\n",
    "pan_m_df[\"est\"] = (\n",
    "    0.8 * pan_m_df[\"evap\"] * 25.4 / 30.437\n",
    ")  # in/month -> mm/day (using approximate mean of days/month)"
   ]
  },
  {
   "cell_type": "markdown",
   "metadata": {},
   "source": [
    "## Photovoltaic Geographical Information System (PVGIS) Solar Radiation Data\n",
    "\n",
    "https://re.jrc.ec.europa.eu/pvg_tools/en/\n",
    "\n",
    "PVGIS-ERA5, 2005-2020, Fixed, 0, 0, no PV, CSV\n",
    "\n",
    "- G(i): Global irradiance on the inclined plane (plane of the array) (W/m2)\n",
    "- H_sun: Sun height (degree)\n",
    "- T2m: 2-m air temperature (degree Celsius)\n",
    "- WS10m: 10-m total wind speed (m/s)\n",
    "- Int: 1 means solar radiation values are reconstructed\n",
    "\n",
    "CSV Header Info: https://joint-research-centre.ec.europa.eu/photovoltaic-geographical-information-system-pvgis/pvgis-tools/hourly-radiation_en"
   ]
  },
  {
   "cell_type": "code",
   "execution_count": 215,
   "metadata": {},
   "outputs": [
    {
     "data": {
      "text/html": [
       "<div>\n",
       "<style scoped>\n",
       "    .dataframe tbody tr th:only-of-type {\n",
       "        vertical-align: middle;\n",
       "    }\n",
       "\n",
       "    .dataframe tbody tr th {\n",
       "        vertical-align: top;\n",
       "    }\n",
       "\n",
       "    .dataframe thead th {\n",
       "        text-align: right;\n",
       "    }\n",
       "</style>\n",
       "<table border=\"1\" class=\"dataframe\">\n",
       "  <thead>\n",
       "    <tr style=\"text-align: right;\">\n",
       "      <th></th>\n",
       "      <th>G(i)</th>\n",
       "      <th>H_sun</th>\n",
       "      <th>T2m</th>\n",
       "      <th>WS10m</th>\n",
       "    </tr>\n",
       "  </thead>\n",
       "  <tbody>\n",
       "    <tr>\n",
       "      <th>count</th>\n",
       "      <td>140256.0</td>\n",
       "      <td>140256.0</td>\n",
       "      <td>140256.0</td>\n",
       "      <td>140256.0</td>\n",
       "    </tr>\n",
       "    <tr>\n",
       "      <th>mean</th>\n",
       "      <td>241.109058</td>\n",
       "      <td>16.271824</td>\n",
       "      <td>12.552853</td>\n",
       "      <td>2.21561</td>\n",
       "    </tr>\n",
       "    <tr>\n",
       "      <th>std</th>\n",
       "      <td>319.85379</td>\n",
       "      <td>21.595552</td>\n",
       "      <td>10.845745</td>\n",
       "      <td>1.438759</td>\n",
       "    </tr>\n",
       "    <tr>\n",
       "      <th>min</th>\n",
       "      <td>0.0</td>\n",
       "      <td>-5.9</td>\n",
       "      <td>-20.99</td>\n",
       "      <td>0.0</td>\n",
       "    </tr>\n",
       "    <tr>\n",
       "      <th>25%</th>\n",
       "      <td>0.0</td>\n",
       "      <td>0.0</td>\n",
       "      <td>3.74</td>\n",
       "      <td>1.31</td>\n",
       "    </tr>\n",
       "    <tr>\n",
       "      <th>50%</th>\n",
       "      <td>7.5</td>\n",
       "      <td>0.3</td>\n",
       "      <td>12.53</td>\n",
       "      <td>1.79</td>\n",
       "    </tr>\n",
       "    <tr>\n",
       "      <th>75%</th>\n",
       "      <td>482.410004</td>\n",
       "      <td>30.860001</td>\n",
       "      <td>21.1</td>\n",
       "      <td>2.76</td>\n",
       "    </tr>\n",
       "    <tr>\n",
       "      <th>max</th>\n",
       "      <td>1088.849976</td>\n",
       "      <td>77.099998</td>\n",
       "      <td>37.580002</td>\n",
       "      <td>11.1</td>\n",
       "    </tr>\n",
       "  </tbody>\n",
       "</table>\n",
       "</div>"
      ],
      "text/plain": [
       "              G(i)      H_sun        T2m     WS10m\n",
       "count     140256.0   140256.0   140256.0  140256.0\n",
       "mean    241.109058  16.271824  12.552853   2.21561\n",
       "std      319.85379  21.595552  10.845745  1.438759\n",
       "min            0.0       -5.9     -20.99       0.0\n",
       "25%            0.0        0.0       3.74      1.31\n",
       "50%            7.5        0.3      12.53      1.79\n",
       "75%     482.410004  30.860001       21.1      2.76\n",
       "max    1088.849976  77.099998  37.580002      11.1"
      ]
     },
     "execution_count": 215,
     "metadata": {},
     "output_type": "execute_result"
    }
   ],
   "source": [
    "irr_df = pd.read_csv(\n",
    "    \"Water Optimization/dynamics_model/Curve_Radiation_2005_2020.csv\",\n",
    "    usecols=[\"time\", \"G(i)\", \"H_sun\", \"T2m\", \"WS10m\"],\n",
    "    header=0,\n",
    "    dtype={\n",
    "        \"time\": \"string\",  # Datetime. Consider \"datetime64[ns, UTC]\"\n",
    "        \"G(i)\": \"Float32\",  # Global in-plane irradiance (W / m^2)\n",
    "        \"H_sun\": \"Float32\",  # Sun height (°)\n",
    "        \"T2m\": \"Float32\",  # Air temperature (°C)\n",
    "        \"WS10m\": \"Float32\",  # Wind speed (m/s)\n",
    "    },\n",
    ")\n",
    "\n",
    "# Convert YYYYMMDD:HHMM format to Pandas datetime\n",
    "irr_df[\"time\"] = pd.to_datetime(\n",
    "    irr_df[\"time\"].apply(lambda x: x[:4] + \"-\" + x[4:6] + \"-\" + x[6:8] + \" \" + x[9:]),\n",
    "    utc=True,\n",
    ")\n",
    "irr_df[\"time\"] = irr_df[\"time\"].dt.tz_localize(None)  # Remove timezone information\n",
    "irr_df = irr_df.convert_dtypes()\n",
    "\n",
    "irr_df.describe()"
   ]
  },
  {
   "cell_type": "code",
   "execution_count": 216,
   "metadata": {},
   "outputs": [
    {
     "ename": "IncompatibleFrequency",
     "evalue": "Input has different freq=A-DEC from Period(freq=M)",
     "output_type": "error",
     "traceback": [
      "\u001b[0;31m---------------------------------------------------------------------------\u001b[0m",
      "\u001b[0;31mIncompatibleFrequency\u001b[0m                     Traceback (most recent call last)",
      "Cell \u001b[0;32mIn[216], line 11\u001b[0m\n\u001b[1;32m      6\u001b[0m irr_ym \u001b[39m=\u001b[39m \u001b[39m210\u001b[39m \u001b[39m+\u001b[39m \u001b[39m1.8\u001b[39m \u001b[39m*\u001b[39m LATITUDE \u001b[39m-\u001b[39m \u001b[39m0.06\u001b[39m \u001b[39m*\u001b[39m LATITUDE\u001b[39m*\u001b[39m\u001b[39m*\u001b[39m\u001b[39m2\u001b[39m  \u001b[39m# Annual mean irradiance\u001b[39;00m\n\u001b[1;32m      7\u001b[0m irr_yr_df \u001b[39m=\u001b[39m (\n\u001b[1;32m      8\u001b[0m     \u001b[39m2.5\u001b[39m \u001b[39m*\u001b[39m get_mean(pga_df, \u001b[39m\"\u001b[39m\u001b[39mvalid\u001b[39m\u001b[39m\"\u001b[39m, [\u001b[39m\"\u001b[39m\u001b[39msmps\u001b[39m\u001b[39m\"\u001b[39m], \u001b[39m\"\u001b[39m\u001b[39mM\u001b[39m\u001b[39m\"\u001b[39m) \u001b[39m*\u001b[39m (\u001b[39m1\u001b[39m \u001b[39m-\u001b[39m \u001b[39m8.7\u001b[39m \u001b[39m*\u001b[39m \u001b[39m10\u001b[39m\u001b[39m*\u001b[39m\u001b[39m*\u001b[39m\u001b[39m-\u001b[39m\u001b[39m5\u001b[39m \u001b[39m*\u001b[39m ELEVATION)\n\u001b[1;32m      9\u001b[0m )\n\u001b[0;32m---> 11\u001b[0m irr_mm \u001b[39m=\u001b[39m irr_yr_df \u001b[39m*\u001b[39m (temp_mm_df \u001b[39m-\u001b[39;49m temp_ym_df) \u001b[39m/\u001b[39m temp_yr_df\n\u001b[1;32m     13\u001b[0m pga_mr_df \u001b[39m=\u001b[39m get_range(pga_df, \u001b[39m\"\u001b[39m\u001b[39mvalid\u001b[39m\u001b[39m\"\u001b[39m, [\u001b[39m\"\u001b[39m\u001b[39mtmpc\u001b[39m\u001b[39m\"\u001b[39m], \u001b[39m\"\u001b[39m\u001b[39mM\u001b[39m\u001b[39m\"\u001b[39m)\n\u001b[1;32m     15\u001b[0m \u001b[39mprint\u001b[39m(pga_mr_df)\n",
      "File \u001b[0;32m~/.pyenv/versions/3.11.1/envs/BodawayGap/lib/python3.11/site-packages/pandas/core/ops/common.py:72\u001b[0m, in \u001b[0;36m_unpack_zerodim_and_defer.<locals>.new_method\u001b[0;34m(self, other)\u001b[0m\n\u001b[1;32m     68\u001b[0m             \u001b[39mreturn\u001b[39;00m \u001b[39mNotImplemented\u001b[39m\n\u001b[1;32m     70\u001b[0m other \u001b[39m=\u001b[39m item_from_zerodim(other)\n\u001b[0;32m---> 72\u001b[0m \u001b[39mreturn\u001b[39;00m method(\u001b[39mself\u001b[39;49m, other)\n",
      "File \u001b[0;32m~/.pyenv/versions/3.11.1/envs/BodawayGap/lib/python3.11/site-packages/pandas/core/arraylike.py:110\u001b[0m, in \u001b[0;36mOpsMixin.__sub__\u001b[0;34m(self, other)\u001b[0m\n\u001b[1;32m    108\u001b[0m \u001b[39m@unpack_zerodim_and_defer\u001b[39m(\u001b[39m\"\u001b[39m\u001b[39m__sub__\u001b[39m\u001b[39m\"\u001b[39m)\n\u001b[1;32m    109\u001b[0m \u001b[39mdef\u001b[39;00m \u001b[39m__sub__\u001b[39m(\u001b[39mself\u001b[39m, other):\n\u001b[0;32m--> 110\u001b[0m     \u001b[39mreturn\u001b[39;00m \u001b[39mself\u001b[39;49m\u001b[39m.\u001b[39;49m_arith_method(other, operator\u001b[39m.\u001b[39;49msub)\n",
      "File \u001b[0;32m~/.pyenv/versions/3.11.1/envs/BodawayGap/lib/python3.11/site-packages/pandas/core/frame.py:7587\u001b[0m, in \u001b[0;36mDataFrame._arith_method\u001b[0;34m(self, other, op)\u001b[0m\n\u001b[1;32m   7585\u001b[0m \u001b[39mdef\u001b[39;00m \u001b[39m_arith_method\u001b[39m(\u001b[39mself\u001b[39m, other, op):\n\u001b[1;32m   7586\u001b[0m     \u001b[39mif\u001b[39;00m ops\u001b[39m.\u001b[39mshould_reindex_frame_op(\u001b[39mself\u001b[39m, other, op, \u001b[39m1\u001b[39m, \u001b[39m1\u001b[39m, \u001b[39mNone\u001b[39;00m, \u001b[39mNone\u001b[39;00m):\n\u001b[0;32m-> 7587\u001b[0m         \u001b[39mreturn\u001b[39;00m ops\u001b[39m.\u001b[39;49mframe_arith_method_with_reindex(\u001b[39mself\u001b[39;49m, other, op)\n\u001b[1;32m   7589\u001b[0m     axis \u001b[39m=\u001b[39m \u001b[39m1\u001b[39m  \u001b[39m# only relevant for Series other case\u001b[39;00m\n\u001b[1;32m   7590\u001b[0m     other \u001b[39m=\u001b[39m ops\u001b[39m.\u001b[39mmaybe_prepare_scalar_for_op(other, (\u001b[39mself\u001b[39m\u001b[39m.\u001b[39mshape[axis],))\n",
      "File \u001b[0;32m~/.pyenv/versions/3.11.1/envs/BodawayGap/lib/python3.11/site-packages/pandas/core/ops/__init__.py:368\u001b[0m, in \u001b[0;36mframe_arith_method_with_reindex\u001b[0;34m(left, right, op)\u001b[0m\n\u001b[1;32m    366\u001b[0m new_left \u001b[39m=\u001b[39m left\u001b[39m.\u001b[39miloc[:, lcols]\n\u001b[1;32m    367\u001b[0m new_right \u001b[39m=\u001b[39m right\u001b[39m.\u001b[39miloc[:, rcols]\n\u001b[0;32m--> 368\u001b[0m result \u001b[39m=\u001b[39m op(new_left, new_right)\n\u001b[1;32m    370\u001b[0m \u001b[39m# Do the join on the columns instead of using align_method_FRAME\u001b[39;00m\n\u001b[1;32m    371\u001b[0m \u001b[39m#  to avoid constructing two potentially large/sparse DataFrames\u001b[39;00m\n\u001b[1;32m    372\u001b[0m join_columns, _, _ \u001b[39m=\u001b[39m left\u001b[39m.\u001b[39mcolumns\u001b[39m.\u001b[39mjoin(\n\u001b[1;32m    373\u001b[0m     right\u001b[39m.\u001b[39mcolumns, how\u001b[39m=\u001b[39m\u001b[39m\"\u001b[39m\u001b[39mouter\u001b[39m\u001b[39m\"\u001b[39m, level\u001b[39m=\u001b[39m\u001b[39mNone\u001b[39;00m, return_indexers\u001b[39m=\u001b[39m\u001b[39mTrue\u001b[39;00m\n\u001b[1;32m    374\u001b[0m )\n",
      "File \u001b[0;32m~/.pyenv/versions/3.11.1/envs/BodawayGap/lib/python3.11/site-packages/pandas/core/ops/common.py:72\u001b[0m, in \u001b[0;36m_unpack_zerodim_and_defer.<locals>.new_method\u001b[0;34m(self, other)\u001b[0m\n\u001b[1;32m     68\u001b[0m             \u001b[39mreturn\u001b[39;00m \u001b[39mNotImplemented\u001b[39m\n\u001b[1;32m     70\u001b[0m other \u001b[39m=\u001b[39m item_from_zerodim(other)\n\u001b[0;32m---> 72\u001b[0m \u001b[39mreturn\u001b[39;00m method(\u001b[39mself\u001b[39;49m, other)\n",
      "File \u001b[0;32m~/.pyenv/versions/3.11.1/envs/BodawayGap/lib/python3.11/site-packages/pandas/core/arraylike.py:110\u001b[0m, in \u001b[0;36mOpsMixin.__sub__\u001b[0;34m(self, other)\u001b[0m\n\u001b[1;32m    108\u001b[0m \u001b[39m@unpack_zerodim_and_defer\u001b[39m(\u001b[39m\"\u001b[39m\u001b[39m__sub__\u001b[39m\u001b[39m\"\u001b[39m)\n\u001b[1;32m    109\u001b[0m \u001b[39mdef\u001b[39;00m \u001b[39m__sub__\u001b[39m(\u001b[39mself\u001b[39m, other):\n\u001b[0;32m--> 110\u001b[0m     \u001b[39mreturn\u001b[39;00m \u001b[39mself\u001b[39;49m\u001b[39m.\u001b[39;49m_arith_method(other, operator\u001b[39m.\u001b[39;49msub)\n",
      "File \u001b[0;32m~/.pyenv/versions/3.11.1/envs/BodawayGap/lib/python3.11/site-packages/pandas/core/frame.py:7592\u001b[0m, in \u001b[0;36mDataFrame._arith_method\u001b[0;34m(self, other, op)\u001b[0m\n\u001b[1;32m   7589\u001b[0m axis \u001b[39m=\u001b[39m \u001b[39m1\u001b[39m  \u001b[39m# only relevant for Series other case\u001b[39;00m\n\u001b[1;32m   7590\u001b[0m other \u001b[39m=\u001b[39m ops\u001b[39m.\u001b[39mmaybe_prepare_scalar_for_op(other, (\u001b[39mself\u001b[39m\u001b[39m.\u001b[39mshape[axis],))\n\u001b[0;32m-> 7592\u001b[0m \u001b[39mself\u001b[39m, other \u001b[39m=\u001b[39m ops\u001b[39m.\u001b[39;49malign_method_FRAME(\u001b[39mself\u001b[39;49m, other, axis, flex\u001b[39m=\u001b[39;49m\u001b[39mTrue\u001b[39;49;00m, level\u001b[39m=\u001b[39;49m\u001b[39mNone\u001b[39;49;00m)\n\u001b[1;32m   7594\u001b[0m new_data \u001b[39m=\u001b[39m \u001b[39mself\u001b[39m\u001b[39m.\u001b[39m_dispatch_frame_op(other, op, axis\u001b[39m=\u001b[39maxis)\n\u001b[1;32m   7595\u001b[0m \u001b[39mreturn\u001b[39;00m \u001b[39mself\u001b[39m\u001b[39m.\u001b[39m_construct_result(new_data)\n",
      "File \u001b[0;32m~/.pyenv/versions/3.11.1/envs/BodawayGap/lib/python3.11/site-packages/pandas/core/ops/__init__.py:287\u001b[0m, in \u001b[0;36malign_method_FRAME\u001b[0;34m(left, right, axis, flex, level)\u001b[0m\n\u001b[1;32m    285\u001b[0m \u001b[39mif\u001b[39;00m \u001b[39mnot\u001b[39;00m left\u001b[39m.\u001b[39m_indexed_same(right):\n\u001b[1;32m    286\u001b[0m     \u001b[39mif\u001b[39;00m flex:\n\u001b[0;32m--> 287\u001b[0m         left, right \u001b[39m=\u001b[39m left\u001b[39m.\u001b[39;49malign(right, join\u001b[39m=\u001b[39;49m\u001b[39m\"\u001b[39;49m\u001b[39mouter\u001b[39;49m\u001b[39m\"\u001b[39;49m, level\u001b[39m=\u001b[39;49mlevel, copy\u001b[39m=\u001b[39;49m\u001b[39mFalse\u001b[39;49;00m)\n\u001b[1;32m    288\u001b[0m     \u001b[39melse\u001b[39;00m:\n\u001b[1;32m    289\u001b[0m         \u001b[39mraise\u001b[39;00m \u001b[39mValueError\u001b[39;00m(\n\u001b[1;32m    290\u001b[0m             \u001b[39m\"\u001b[39m\u001b[39mCan only compare identically-labeled DataFrame objects\u001b[39m\u001b[39m\"\u001b[39m\n\u001b[1;32m    291\u001b[0m         )\n",
      "File \u001b[0;32m~/.pyenv/versions/3.11.1/envs/BodawayGap/lib/python3.11/site-packages/pandas/core/frame.py:5090\u001b[0m, in \u001b[0;36mDataFrame.align\u001b[0;34m(self, other, join, axis, level, copy, fill_value, method, limit, fill_axis, broadcast_axis)\u001b[0m\n\u001b[1;32m   5076\u001b[0m \u001b[39m@doc\u001b[39m(NDFrame\u001b[39m.\u001b[39malign, \u001b[39m*\u001b[39m\u001b[39m*\u001b[39m_shared_doc_kwargs)\n\u001b[1;32m   5077\u001b[0m \u001b[39mdef\u001b[39;00m \u001b[39malign\u001b[39m(\n\u001b[1;32m   5078\u001b[0m     \u001b[39mself\u001b[39m,\n\u001b[0;32m   (...)\u001b[0m\n\u001b[1;32m   5088\u001b[0m     broadcast_axis: Axis \u001b[39m|\u001b[39m \u001b[39mNone\u001b[39;00m \u001b[39m=\u001b[39m \u001b[39mNone\u001b[39;00m,\n\u001b[1;32m   5089\u001b[0m ) \u001b[39m-\u001b[39m\u001b[39m>\u001b[39m DataFrame:\n\u001b[0;32m-> 5090\u001b[0m     \u001b[39mreturn\u001b[39;00m \u001b[39msuper\u001b[39;49m()\u001b[39m.\u001b[39;49malign(\n\u001b[1;32m   5091\u001b[0m         other,\n\u001b[1;32m   5092\u001b[0m         join\u001b[39m=\u001b[39;49mjoin,\n\u001b[1;32m   5093\u001b[0m         axis\u001b[39m=\u001b[39;49maxis,\n\u001b[1;32m   5094\u001b[0m         level\u001b[39m=\u001b[39;49mlevel,\n\u001b[1;32m   5095\u001b[0m         copy\u001b[39m=\u001b[39;49mcopy,\n\u001b[1;32m   5096\u001b[0m         fill_value\u001b[39m=\u001b[39;49mfill_value,\n\u001b[1;32m   5097\u001b[0m         method\u001b[39m=\u001b[39;49mmethod,\n\u001b[1;32m   5098\u001b[0m         limit\u001b[39m=\u001b[39;49mlimit,\n\u001b[1;32m   5099\u001b[0m         fill_axis\u001b[39m=\u001b[39;49mfill_axis,\n\u001b[1;32m   5100\u001b[0m         broadcast_axis\u001b[39m=\u001b[39;49mbroadcast_axis,\n\u001b[1;32m   5101\u001b[0m     )\n",
      "File \u001b[0;32m~/.pyenv/versions/3.11.1/envs/BodawayGap/lib/python3.11/site-packages/pandas/core/generic.py:9440\u001b[0m, in \u001b[0;36mNDFrame.align\u001b[0;34m(self, other, join, axis, level, copy, fill_value, method, limit, fill_axis, broadcast_axis)\u001b[0m\n\u001b[1;32m   9438\u001b[0m     axis \u001b[39m=\u001b[39m \u001b[39mself\u001b[39m\u001b[39m.\u001b[39m_get_axis_number(axis)\n\u001b[1;32m   9439\u001b[0m \u001b[39mif\u001b[39;00m \u001b[39misinstance\u001b[39m(other, ABCDataFrame):\n\u001b[0;32m-> 9440\u001b[0m     \u001b[39mreturn\u001b[39;00m \u001b[39mself\u001b[39;49m\u001b[39m.\u001b[39;49m_align_frame(\n\u001b[1;32m   9441\u001b[0m         other,\n\u001b[1;32m   9442\u001b[0m         join\u001b[39m=\u001b[39;49mjoin,\n\u001b[1;32m   9443\u001b[0m         axis\u001b[39m=\u001b[39;49maxis,\n\u001b[1;32m   9444\u001b[0m         level\u001b[39m=\u001b[39;49mlevel,\n\u001b[1;32m   9445\u001b[0m         copy\u001b[39m=\u001b[39;49mcopy,\n\u001b[1;32m   9446\u001b[0m         fill_value\u001b[39m=\u001b[39;49mfill_value,\n\u001b[1;32m   9447\u001b[0m         method\u001b[39m=\u001b[39;49mmethod,\n\u001b[1;32m   9448\u001b[0m         limit\u001b[39m=\u001b[39;49mlimit,\n\u001b[1;32m   9449\u001b[0m         fill_axis\u001b[39m=\u001b[39;49mfill_axis,\n\u001b[1;32m   9450\u001b[0m     )\n\u001b[1;32m   9451\u001b[0m \u001b[39melif\u001b[39;00m \u001b[39misinstance\u001b[39m(other, ABCSeries):\n\u001b[1;32m   9452\u001b[0m     \u001b[39mreturn\u001b[39;00m \u001b[39mself\u001b[39m\u001b[39m.\u001b[39m_align_series(\n\u001b[1;32m   9453\u001b[0m         other,\n\u001b[1;32m   9454\u001b[0m         join\u001b[39m=\u001b[39mjoin,\n\u001b[0;32m   (...)\u001b[0m\n\u001b[1;32m   9461\u001b[0m         fill_axis\u001b[39m=\u001b[39mfill_axis,\n\u001b[1;32m   9462\u001b[0m     )\n",
      "File \u001b[0;32m~/.pyenv/versions/3.11.1/envs/BodawayGap/lib/python3.11/site-packages/pandas/core/generic.py:9487\u001b[0m, in \u001b[0;36mNDFrame._align_frame\u001b[0;34m(self, other, join, axis, level, copy, fill_value, method, limit, fill_axis)\u001b[0m\n\u001b[1;32m   9484\u001b[0m is_series \u001b[39m=\u001b[39m \u001b[39misinstance\u001b[39m(\u001b[39mself\u001b[39m, ABCSeries)\n\u001b[1;32m   9486\u001b[0m \u001b[39mif\u001b[39;00m (axis \u001b[39mis\u001b[39;00m \u001b[39mNone\u001b[39;00m \u001b[39mor\u001b[39;00m axis \u001b[39m==\u001b[39m \u001b[39m0\u001b[39m) \u001b[39mand\u001b[39;00m \u001b[39mnot\u001b[39;00m \u001b[39mself\u001b[39m\u001b[39m.\u001b[39mindex\u001b[39m.\u001b[39mequals(other\u001b[39m.\u001b[39mindex):\n\u001b[0;32m-> 9487\u001b[0m     join_index, ilidx, iridx \u001b[39m=\u001b[39m \u001b[39mself\u001b[39;49m\u001b[39m.\u001b[39;49mindex\u001b[39m.\u001b[39;49mjoin(\n\u001b[1;32m   9488\u001b[0m         other\u001b[39m.\u001b[39;49mindex, how\u001b[39m=\u001b[39;49mjoin, level\u001b[39m=\u001b[39;49mlevel, return_indexers\u001b[39m=\u001b[39;49m\u001b[39mTrue\u001b[39;49;00m\n\u001b[1;32m   9489\u001b[0m     )\n\u001b[1;32m   9491\u001b[0m \u001b[39mif\u001b[39;00m (\n\u001b[1;32m   9492\u001b[0m     (axis \u001b[39mis\u001b[39;00m \u001b[39mNone\u001b[39;00m \u001b[39mor\u001b[39;00m axis \u001b[39m==\u001b[39m \u001b[39m1\u001b[39m)\n\u001b[1;32m   9493\u001b[0m     \u001b[39mand\u001b[39;00m \u001b[39mnot\u001b[39;00m is_series\n\u001b[1;32m   9494\u001b[0m     \u001b[39mand\u001b[39;00m \u001b[39mnot\u001b[39;00m \u001b[39mself\u001b[39m\u001b[39m.\u001b[39mcolumns\u001b[39m.\u001b[39mequals(other\u001b[39m.\u001b[39mcolumns)\n\u001b[1;32m   9495\u001b[0m ):\n\u001b[1;32m   9496\u001b[0m     join_columns, clidx, cridx \u001b[39m=\u001b[39m \u001b[39mself\u001b[39m\u001b[39m.\u001b[39mcolumns\u001b[39m.\u001b[39mjoin(\n\u001b[1;32m   9497\u001b[0m         other\u001b[39m.\u001b[39mcolumns, how\u001b[39m=\u001b[39mjoin, level\u001b[39m=\u001b[39mlevel, return_indexers\u001b[39m=\u001b[39m\u001b[39mTrue\u001b[39;00m\n\u001b[1;32m   9498\u001b[0m     )\n",
      "File \u001b[0;32m~/.pyenv/versions/3.11.1/envs/BodawayGap/lib/python3.11/site-packages/pandas/util/_decorators.py:331\u001b[0m, in \u001b[0;36mdeprecate_nonkeyword_arguments.<locals>.decorate.<locals>.wrapper\u001b[0;34m(*args, **kwargs)\u001b[0m\n\u001b[1;32m    325\u001b[0m \u001b[39mif\u001b[39;00m \u001b[39mlen\u001b[39m(args) \u001b[39m>\u001b[39m num_allow_args:\n\u001b[1;32m    326\u001b[0m     warnings\u001b[39m.\u001b[39mwarn(\n\u001b[1;32m    327\u001b[0m         msg\u001b[39m.\u001b[39mformat(arguments\u001b[39m=\u001b[39m_format_argument_list(allow_args)),\n\u001b[1;32m    328\u001b[0m         \u001b[39mFutureWarning\u001b[39;00m,\n\u001b[1;32m    329\u001b[0m         stacklevel\u001b[39m=\u001b[39mfind_stack_level(),\n\u001b[1;32m    330\u001b[0m     )\n\u001b[0;32m--> 331\u001b[0m \u001b[39mreturn\u001b[39;00m func(\u001b[39m*\u001b[39;49margs, \u001b[39m*\u001b[39;49m\u001b[39m*\u001b[39;49mkwargs)\n",
      "File \u001b[0;32m~/.pyenv/versions/3.11.1/envs/BodawayGap/lib/python3.11/site-packages/pandas/core/indexes/base.py:228\u001b[0m, in \u001b[0;36m_maybe_return_indexers.<locals>.join\u001b[0;34m(self, other, how, level, return_indexers, sort)\u001b[0m\n\u001b[1;32m    219\u001b[0m \u001b[39m@functools\u001b[39m\u001b[39m.\u001b[39mwraps(meth)\n\u001b[1;32m    220\u001b[0m \u001b[39mdef\u001b[39;00m \u001b[39mjoin\u001b[39m(\n\u001b[1;32m    221\u001b[0m     \u001b[39mself\u001b[39m,\n\u001b[0;32m   (...)\u001b[0m\n\u001b[1;32m    226\u001b[0m     sort: \u001b[39mbool\u001b[39m \u001b[39m=\u001b[39m \u001b[39mFalse\u001b[39;00m,\n\u001b[1;32m    227\u001b[0m ):\n\u001b[0;32m--> 228\u001b[0m     join_index, lidx, ridx \u001b[39m=\u001b[39m meth(\u001b[39mself\u001b[39;49m, other, how\u001b[39m=\u001b[39;49mhow, level\u001b[39m=\u001b[39;49mlevel, sort\u001b[39m=\u001b[39;49msort)\n\u001b[1;32m    229\u001b[0m     \u001b[39mif\u001b[39;00m \u001b[39mnot\u001b[39;00m return_indexers:\n\u001b[1;32m    230\u001b[0m         \u001b[39mreturn\u001b[39;00m join_index\n",
      "File \u001b[0;32m~/.pyenv/versions/3.11.1/envs/BodawayGap/lib/python3.11/site-packages/pandas/core/indexes/base.py:4653\u001b[0m, in \u001b[0;36mIndex.join\u001b[0;34m(self, other, how, level, return_indexers, sort)\u001b[0m\n\u001b[1;32m   4651\u001b[0m     this \u001b[39m=\u001b[39m \u001b[39mself\u001b[39m\u001b[39m.\u001b[39mastype(dtype, copy\u001b[39m=\u001b[39m\u001b[39mFalse\u001b[39;00m)\n\u001b[1;32m   4652\u001b[0m     other \u001b[39m=\u001b[39m other\u001b[39m.\u001b[39mastype(dtype, copy\u001b[39m=\u001b[39m\u001b[39mFalse\u001b[39;00m)\n\u001b[0;32m-> 4653\u001b[0m     \u001b[39mreturn\u001b[39;00m this\u001b[39m.\u001b[39;49mjoin(other, how\u001b[39m=\u001b[39;49mhow, return_indexers\u001b[39m=\u001b[39;49m\u001b[39mTrue\u001b[39;49;00m)\n\u001b[1;32m   4655\u001b[0m _validate_join_method(how)\n\u001b[1;32m   4657\u001b[0m \u001b[39mif\u001b[39;00m \u001b[39mnot\u001b[39;00m \u001b[39mself\u001b[39m\u001b[39m.\u001b[39mis_unique \u001b[39mand\u001b[39;00m \u001b[39mnot\u001b[39;00m other\u001b[39m.\u001b[39mis_unique:\n",
      "File \u001b[0;32m~/.pyenv/versions/3.11.1/envs/BodawayGap/lib/python3.11/site-packages/pandas/util/_decorators.py:331\u001b[0m, in \u001b[0;36mdeprecate_nonkeyword_arguments.<locals>.decorate.<locals>.wrapper\u001b[0;34m(*args, **kwargs)\u001b[0m\n\u001b[1;32m    325\u001b[0m \u001b[39mif\u001b[39;00m \u001b[39mlen\u001b[39m(args) \u001b[39m>\u001b[39m num_allow_args:\n\u001b[1;32m    326\u001b[0m     warnings\u001b[39m.\u001b[39mwarn(\n\u001b[1;32m    327\u001b[0m         msg\u001b[39m.\u001b[39mformat(arguments\u001b[39m=\u001b[39m_format_argument_list(allow_args)),\n\u001b[1;32m    328\u001b[0m         \u001b[39mFutureWarning\u001b[39;00m,\n\u001b[1;32m    329\u001b[0m         stacklevel\u001b[39m=\u001b[39mfind_stack_level(),\n\u001b[1;32m    330\u001b[0m     )\n\u001b[0;32m--> 331\u001b[0m \u001b[39mreturn\u001b[39;00m func(\u001b[39m*\u001b[39;49margs, \u001b[39m*\u001b[39;49m\u001b[39m*\u001b[39;49mkwargs)\n",
      "File \u001b[0;32m~/.pyenv/versions/3.11.1/envs/BodawayGap/lib/python3.11/site-packages/pandas/core/indexes/base.py:228\u001b[0m, in \u001b[0;36m_maybe_return_indexers.<locals>.join\u001b[0;34m(self, other, how, level, return_indexers, sort)\u001b[0m\n\u001b[1;32m    219\u001b[0m \u001b[39m@functools\u001b[39m\u001b[39m.\u001b[39mwraps(meth)\n\u001b[1;32m    220\u001b[0m \u001b[39mdef\u001b[39;00m \u001b[39mjoin\u001b[39m(\n\u001b[1;32m    221\u001b[0m     \u001b[39mself\u001b[39m,\n\u001b[0;32m   (...)\u001b[0m\n\u001b[1;32m    226\u001b[0m     sort: \u001b[39mbool\u001b[39m \u001b[39m=\u001b[39m \u001b[39mFalse\u001b[39;00m,\n\u001b[1;32m    227\u001b[0m ):\n\u001b[0;32m--> 228\u001b[0m     join_index, lidx, ridx \u001b[39m=\u001b[39m meth(\u001b[39mself\u001b[39;49m, other, how\u001b[39m=\u001b[39;49mhow, level\u001b[39m=\u001b[39;49mlevel, sort\u001b[39m=\u001b[39;49msort)\n\u001b[1;32m    229\u001b[0m     \u001b[39mif\u001b[39;00m \u001b[39mnot\u001b[39;00m return_indexers:\n\u001b[1;32m    230\u001b[0m         \u001b[39mreturn\u001b[39;00m join_index\n",
      "File \u001b[0;32m~/.pyenv/versions/3.11.1/envs/BodawayGap/lib/python3.11/site-packages/pandas/core/indexes/base.py:4681\u001b[0m, in \u001b[0;36mIndex.join\u001b[0;34m(self, other, how, level, return_indexers, sort)\u001b[0m\n\u001b[1;32m   4668\u001b[0m \u001b[39melif\u001b[39;00m (\n\u001b[1;32m   4669\u001b[0m     \u001b[39mself\u001b[39m\u001b[39m.\u001b[39mis_monotonic_increasing\n\u001b[1;32m   4670\u001b[0m     \u001b[39mand\u001b[39;00m other\u001b[39m.\u001b[39mis_monotonic_increasing\n\u001b[0;32m   (...)\u001b[0m\n\u001b[1;32m   4678\u001b[0m     \u001b[39m# Categorical is monotonic if data are ordered as categories, but join can\u001b[39;00m\n\u001b[1;32m   4679\u001b[0m     \u001b[39m#  not handle this in case of not lexicographically monotonic GH#38502\u001b[39;00m\n\u001b[1;32m   4680\u001b[0m     \u001b[39mtry\u001b[39;00m:\n\u001b[0;32m-> 4681\u001b[0m         \u001b[39mreturn\u001b[39;00m \u001b[39mself\u001b[39;49m\u001b[39m.\u001b[39;49m_join_monotonic(other, how\u001b[39m=\u001b[39;49mhow)\n\u001b[1;32m   4682\u001b[0m     \u001b[39mexcept\u001b[39;00m \u001b[39mTypeError\u001b[39;00m:\n\u001b[1;32m   4683\u001b[0m         \u001b[39m# object dtype; non-comparable objects\u001b[39;00m\n\u001b[1;32m   4684\u001b[0m         \u001b[39mpass\u001b[39;00m\n",
      "File \u001b[0;32m~/.pyenv/versions/3.11.1/envs/BodawayGap/lib/python3.11/site-packages/pandas/core/indexes/base.py:5013\u001b[0m, in \u001b[0;36mIndex._join_monotonic\u001b[0;34m(self, other, how)\u001b[0m\n\u001b[1;32m   5011\u001b[0m         join_index \u001b[39m=\u001b[39m \u001b[39mself\u001b[39m\u001b[39m.\u001b[39m_wrap_joined_index(join_array, other)\n\u001b[1;32m   5012\u001b[0m     \u001b[39melif\u001b[39;00m how \u001b[39m==\u001b[39m \u001b[39m\"\u001b[39m\u001b[39mouter\u001b[39m\u001b[39m\"\u001b[39m:\n\u001b[0;32m-> 5013\u001b[0m         join_array, lidx, ridx \u001b[39m=\u001b[39m \u001b[39mself\u001b[39;49m\u001b[39m.\u001b[39;49m_outer_indexer(other)\n\u001b[1;32m   5014\u001b[0m         join_index \u001b[39m=\u001b[39m \u001b[39mself\u001b[39m\u001b[39m.\u001b[39m_wrap_joined_index(join_array, other)\n\u001b[1;32m   5015\u001b[0m \u001b[39melse\u001b[39;00m:\n",
      "File \u001b[0;32m~/.pyenv/versions/3.11.1/envs/BodawayGap/lib/python3.11/site-packages/pandas/core/indexes/base.py:387\u001b[0m, in \u001b[0;36mIndex._outer_indexer\u001b[0;34m(self, other)\u001b[0m\n\u001b[1;32m    385\u001b[0m sv \u001b[39m=\u001b[39m cast(np\u001b[39m.\u001b[39mndarray, sv)\n\u001b[1;32m    386\u001b[0m ov \u001b[39m=\u001b[39m cast(np\u001b[39m.\u001b[39mndarray, ov)\n\u001b[0;32m--> 387\u001b[0m joined_ndarray, lidx, ridx \u001b[39m=\u001b[39m libjoin\u001b[39m.\u001b[39;49mouter_join_indexer(sv, ov)\n\u001b[1;32m    388\u001b[0m joined \u001b[39m=\u001b[39m \u001b[39mself\u001b[39m\u001b[39m.\u001b[39m_from_join_target(joined_ndarray)\n\u001b[1;32m    389\u001b[0m \u001b[39mreturn\u001b[39;00m joined, lidx, ridx\n",
      "File \u001b[0;32m~/.pyenv/versions/3.11.1/envs/BodawayGap/lib/python3.11/site-packages/pandas/_libs/join.pyx:580\u001b[0m, in \u001b[0;36mpandas._libs.join.outer_join_indexer\u001b[0;34m()\u001b[0m\n",
      "File \u001b[0;32m~/.pyenv/versions/3.11.1/envs/BodawayGap/lib/python3.11/site-packages/pandas/_libs/tslibs/period.pyx:1667\u001b[0m, in \u001b[0;36mpandas._libs.tslibs.period._Period.__richcmp__\u001b[0;34m()\u001b[0m\n",
      "File \u001b[0;32m~/.pyenv/versions/3.11.1/envs/BodawayGap/lib/python3.11/site-packages/pandas/_libs/tslibs/period.pyx:1600\u001b[0m, in \u001b[0;36mpandas._libs.tslibs.period.PeriodMixin._require_matching_freq\u001b[0;34m()\u001b[0m\n",
      "\u001b[0;31mIncompatibleFrequency\u001b[0m: Input has different freq=A-DEC from Period(freq=M)"
     ]
    }
   ],
   "source": [
    "temp_mm_df = get_mean(pga_df, \"valid\", [\"tmpc\"], \"M\")  # Monthly mean temperature\n",
    "temp_ym_df = get_mean(pga_df, \"valid\", [\"tmpc\"], \"Y\")  # Annual mean temperature\n",
    "temp_yr_df = get_range(pga_df, \"valid\", [\"tmpc\"], \"Y\")  # Annual temperature range\n",
    "\n",
    "\n",
    "irr_ym = 210 + 1.8 * LATITUDE - 0.06 * LATITUDE**2  # Annual mean irradiance\n",
    "irr_yr_df = (\n",
    "    2.5 * get_mean(pga_df, \"valid\", [\"smps\"], \"M\") * (1 - 8.7 * 10**-5 * ELEVATION)\n",
    ")\n",
    "\n",
    "irr_mm = irr_yr_df * (temp_mm_df - temp_ym_df) / temp_yr_df\n",
    "\n",
    "pga_mr_df = get_range(pga_df, \"valid\", [\"tmpc\"], \"M\")\n",
    "\n",
    "print(pga_mr_df)"
   ]
  },
  {
   "cell_type": "markdown",
   "metadata": {},
   "source": [
    "## Evaporation Estimations"
   ]
  },
  {
   "cell_type": "markdown",
   "metadata": {},
   "source": [
    "### Monthly"
   ]
  },
  {
   "cell_type": "code",
   "execution_count": null,
   "metadata": {},
   "outputs": [],
   "source": [
    "pga_m_df = get_mean(pga_df, \"valid\", [\"tmpc\", \"dwpc\", \"smps\"], \"M\")\n",
    "irr_m_df = get_mean(irr_df, \"time\", [\"G(i)\"], \"M\")\n",
    "\n",
    "res_m_df = pd.merge(\n",
    "    pga_m_df,\n",
    "    irr_m_df[\"G(i)\"],\n",
    "    how=\"inner\",\n",
    "    left_on=\"valid\",\n",
    "    right_on=\"time\",\n",
    "    suffixes=[\"_res\", \"_irr\"],\n",
    ")\n",
    "\n",
    "res_m_df[\"est\"] = res_m_df.apply(\n",
    "    lambda row: get_evaporation_rate(\n",
    "        row[\"tmpc\"], row[\"dwpc\"], ELEVATION, row[\"G(i)\"], row[\"smps\"]\n",
    "    ),\n",
    "    axis=1,\n",
    ")\n",
    "\n",
    "res_m_mean_df = res_m_df[\"est\"].groupby(res_m_df[\"month\"]).mean()\n",
    "# print(\"Penman's Equation\")\n",
    "# print(res_m_mean_df)\n",
    "# print(\"Pan Coefficient\")\n",
    "# print(pan_m_df[\"est\"])\n",
    "\n",
    "# print(\"% Diff to Pan\")\n",
    "# print(\n",
    "#     np.abs(pan_m_df[\"est\"].to_numpy() - res_m_mean_df.to_numpy())\n",
    "#     * 100\n",
    "#     / pan_m_df[\"est\"]\n",
    "# )"
   ]
  },
  {
   "cell_type": "code",
   "execution_count": null,
   "metadata": {},
   "outputs": [
    {
     "data": {
      "text/plain": [
       "[<matplotlib.lines.Line2D at 0x141f03910>]"
      ]
     },
     "execution_count": 205,
     "metadata": {},
     "output_type": "execute_result"
    },
    {
     "data": {
      "image/png": "[encoded data removed]",
      "text/plain": [
       "<Figure size 640x480 with 1 Axes>"
      ]
     },
     "metadata": {},
     "output_type": "display_data"
    }
   ],
   "source": [
    "plt.xlabel(\"Month (0-11)\")\n",
    "plt.ylabel(\"Evaporation Rate (mm/day)\")\n",
    "plt.plot(pan_m_df[\"est\"].to_numpy(), \"o\")\n",
    "plt.plot(res_m_mean_df.to_numpy(), \"o\")"
   ]
  },
  {
   "cell_type": "markdown",
   "metadata": {},
   "source": [
    "## Curve Fitting"
   ]
  },
  {
   "cell_type": "code",
   "execution_count": 218,
   "metadata": {},
   "outputs": [
    {
     "name": "stdout",
     "output_type": "stream",
     "text": [
      "Fitted Parameters:  [-1.47662493e-02  8.90701144e-04  1.71684167e-05  1.25947725e+00\n",
      " -1.15736015e+02 -1.52483809e+00  7.74772675e-01 -5.87612260e-05]\n"
     ]
    },
    {
     "data": {
      "text/plain": [
       "[<matplotlib.lines.Line2D at 0x144174790>]"
      ]
     },
     "execution_count": 218,
     "metadata": {},
     "output_type": "execute_result"
    },
    {
     "data": {
      "image/png": "[encoded data removed]",
      "text/plain": [
       "<Figure size 640x480 with 1 Axes>"
      ]
     },
     "metadata": {},
     "output_type": "display_data"
    }
   ],
   "source": [
    "def get_evaporation_rate(\n",
    "    mean_temp: float, dewp_temp: float, elev: float, solar_irr: float, wind_speed: float\n",
    ") -> float:\n",
    "    return (0.015 + 0.00042 * mean_temp + 10**-6 * elev) * (\n",
    "        0.8 * solar_irr\n",
    "        - 40\n",
    "        + 2.5 * (1.0 - 8.7 * 10**-5 * elev) * wind_speed * (mean_temp - dewp_temp)\n",
    "    )\n",
    "\n",
    "\n",
    "def evaporation_rate_curve(\n",
    "    X: np.ndarray,\n",
    "    # Output/fitting variables (unknown)\n",
    "    c1: float = 0.015,\n",
    "    c2: float = 0.00042,\n",
    "    c3: float = 10e-6,\n",
    "    c4: float = 0.8,\n",
    "    c5: float = -40,\n",
    "    c6: float = 2.5,\n",
    "    c7: float = 1.0,\n",
    "    c8: float = 8.7 * 10**-5,\n",
    ") -> float:\n",
    "    mean_temp, dewp_temp, solar_irr, wind_speed = X.T\n",
    "\n",
    "    return (c1 + c2 * mean_temp + c3 * ELEVATION) * (\n",
    "        c4 * solar_irr\n",
    "        + c5\n",
    "        + c6 * (c7 - c8 * ELEVATION) * wind_speed * (mean_temp - dewp_temp)\n",
    "    )\n",
    "\n",
    "\n",
    "res_m_data = (\n",
    "    res_m_df.groupby(\"month\").mean()[[\"tmpc\", \"dwpc\", \"G(i)\", \"smps\"]].to_numpy()\n",
    ")\n",
    "pan_m_evap = pan_m_df.est.to_numpy()\n",
    "\n",
    "popt, pcov = curve_fit(\n",
    "    evaporation_rate_curve,\n",
    "    res_m_data,\n",
    "    pan_m_evap,\n",
    "    p0=[\n",
    "        0.015,\n",
    "        0.00042,\n",
    "        10e-6,\n",
    "        0.8,\n",
    "        -40,\n",
    "        2.5,\n",
    "        1.0,\n",
    "        8.7 * 10**-5,\n",
    "    ],  # Seeding parameters from reference\n",
    ")\n",
    "\n",
    "print(\"Fitted Parameters: \", popt)\n",
    "plt.xlabel(\"Month (0-11)\")\n",
    "plt.ylabel(\"Evaporation Rate (mm/day)\")\n",
    "plt.plot(pan_m_df[\"est\"].to_numpy(), \"o\")  # Pan estimations\n",
    "plt.plot(res_m_mean_df.to_numpy(), \"o\")  # Model predictions\n",
    "plt.plot(\n",
    "    pan_m_df[\"month\"].to_numpy() - 1, evaporation_rate_curve(res_m_data, *popt), \"b\"\n",
    ")"
   ]
  },
  {
   "cell_type": "code",
   "execution_count": null,
   "metadata": {},
   "outputs": [
    {
     "data": {
      "text/plain": [
       "[<matplotlib.lines.Line2D at 0x141ffa750>]"
      ]
     },
     "execution_count": 209,
     "metadata": {},
     "output_type": "execute_result"
    },
    {
     "data": {
      "image/png": "[encoded data removed]",
      "text/plain": [
       "<Figure size 640x480 with 1 Axes>"
      ]
     },
     "metadata": {},
     "output_type": "display_data"
    }
   ],
   "source": [
    "pga_d_df = get_mean(pga_df, \"valid\", [\"tmpc\", \"dwpc\", \"smps\"], \"D\")\n",
    "irr_d_df = get_mean(irr_df, \"time\", [\"G(i)\"], \"D\")\n",
    "\n",
    "res_d_df = pd.merge(\n",
    "    pga_d_df,\n",
    "    irr_d_df[\"G(i)\"],\n",
    "    how=\"inner\",\n",
    "    left_on=\"valid\",\n",
    "    right_on=\"time\",\n",
    "    suffixes=[\"_res\", \"_irr\"],\n",
    ")\n",
    "\n",
    "res_d_df[\"est\"] = res_d_df.apply(\n",
    "    lambda row: get_evaporation_rate(\n",
    "        row[\"tmpc\"], row[\"dwpc\"], ELEVATION, row[\"G(i)\"], row[\"smps\"]\n",
    "    ),\n",
    "    axis=1,\n",
    ")\n",
    "\n",
    "res_d_mean_df = res_d_df[\"est\"].groupby(res_d_df[\"month\"]).mean()\n",
    "res_d_data = res_d_df.groupby(\"day\").mean()[[\"tmpc\", \"dwpc\", \"G(i)\", \"smps\"]].to_numpy()\n",
    "days = np.arange(res_d_data.shape[0])\n",
    "\n",
    "plt.xlabel(\"Day (0-30)\")\n",
    "plt.ylabel(\"Evaporation Rate (mm/day)\")\n",
    "plt.plot(days, evaporation_rate_curve(res_d_data, *popt), \"b\")  # Curve-fitted model\n",
    "plt.plot(days, res_d_df[\"est\"].groupby(res_d_df[\"day\"]).mean(), \"r\")  # Original model"
   ]
  }
 ],
 "metadata": {
  "kernelspec": {
   "display_name": "BodawayGap",
   "language": "python",
   "name": "python3"
  },
  "language_info": {
   "codemirror_mode": {
    "name": "ipython",
    "version": 3
   },
   "file_extension": ".py",
   "mimetype": "text/x-python",
   "name": "python",
   "nbconvert_exporter": "python",
   "pygments_lexer": "ipython3",
   "version": "3.11.1"
  },
  "orig_nbformat": 4
 },
 "nbformat": 4,
 "nbformat_minor": 2
}
