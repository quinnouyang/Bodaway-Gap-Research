{
 "cells": [
  {
   "attachments": {},
   "cell_type": "markdown",
   "metadata": {},
   "source": [
    "# Optimization Sandbox\n",
    "\n",
    "Goal is to find the global \"most optimal\" points for water sources (destinations of supply) among a large set of homes and corrals (origins of demand). For now, we're minimizing the average traveling time from a cluster of origins to a destiantion."
   ]
  },
  {
   "cell_type": "code",
   "execution_count": null,
   "metadata": {},
   "outputs": [],
   "source": [
    "import numpy as np\n",
    "from numpy import random as rand\n",
    "from scipy.interpolate import make_interp_spline\n",
    "import matplotlib.pyplot as plt\n",
    "\n",
    "np.set_printoptions(suppress=True)  # Removes scientific notation, etc."
   ]
  },
  {
   "attachments": {},
   "cell_type": "markdown",
   "metadata": {},
   "source": [
    "## Abstract Examples\n",
    "Experimenting with different optimization methods with arbitrary examples.\n",
    "\n",
    "Here, we globally optimize a continuous function with local extrema with a continuous bounding function (to determine the minimum a minima can be, etc.)."
   ]
  },
  {
   "cell_type": "code",
   "execution_count": null,
   "metadata": {},
   "outputs": [],
   "source": [
    "def gen_ex_func(num_pts=64) -> tuple[np.ndarray, np.ndarray]:\n",
    "    \"\"\"\n",
    "    Generates a random example function to optimize with exaggerated local extrema, given the number of points to interpolate from\n",
    "    \"\"\"\n",
    "    x_vals = np.arange(num_pts)\n",
    "    y_vals = rand.gumbel(\n",
    "        size=num_pts\n",
    "    )  # Skewed distribution to occasionally generate much larger values for extrema\n",
    "\n",
    "    spline = make_interp_spline(x_vals, y=y_vals)\n",
    "    x_vals = np.linspace(0, x_vals.max(), 512)\n",
    "    return x_vals, spline(x_vals)"
   ]
  },
  {
   "cell_type": "code",
   "execution_count": null,
   "metadata": {},
   "outputs": [],
   "source": [
    "x_vals, y_vals = gen_ex_func()\n",
    "\n",
    "fig, ax = plt.subplots()\n",
    "ax.plot(x_vals, y_vals)\n",
    "ax.plot(x_vals, np.sin(x_vals))"
   ]
  },
  {
   "cell_type": "code",
   "execution_count": null,
   "metadata": {},
   "outputs": [],
   "source": [
    "def annealing(\n",
    "    random_start,\n",
    "    cost_function,\n",
    "    random_neighbour,\n",
    "    acceptance,\n",
    "    temperature,\n",
    "    maxsteps=1000,\n",
    "    debug=True,\n",
    "):\n",
    "    \"\"\"Optimize the black-box function 'cost_function' with the simulated annealing algorithm.\"\"\"\n",
    "    state = random_start()\n",
    "    cost = cost_function(state)\n",
    "    states, costs = [state], [cost]\n",
    "\n",
    "    for step in range(maxsteps):\n",
    "        fraction = step / float(maxsteps)\n",
    "        T = temperature(fraction)\n",
    "        new_state = random_neighbour(state, fraction)\n",
    "        print(new_state)\n",
    "        new_cost = cost_function(new_state)\n",
    "        if debug:\n",
    "            print(\n",
    "                \"Step #{:>2}/{:>2} : T = {:>4.3g}, state = {:>4.3g}, cost = {:>4.3g}, new_state = {:>4.3g}, new_cost = {:>4.3g} ...\".format(\n",
    "                    step, maxsteps, T, state, cost, new_state, new_cost\n",
    "                )\n",
    "            )\n",
    "        if acceptance(cost, new_cost, T) > rand.random():\n",
    "            state, cost = new_state, new_cost\n",
    "            states.append(state)\n",
    "            costs.append(cost)\n",
    "            # print(\"  ==> Accept it!\")\n",
    "        # else:\n",
    "        #    print(\"  ==> Reject it...\")\n",
    "    return state, cost_function(state), states, costs"
   ]
  },
  {
   "cell_type": "code",
   "execution_count": null,
   "metadata": {},
   "outputs": [],
   "source": [
    "interval = (0, 512)\n",
    "\n",
    "\n",
    "def f(x: int):\n",
    "    \"\"\"Discrete function of interger points from 0 to 512\"\"\"\n",
    "    return y_vals[x]\n",
    "\n",
    "\n",
    "def clip(x) -> int:\n",
    "    \"\"\"Force point to be in the interval.\"\"\"\n",
    "    a, b = interval\n",
    "    return int(max(min(x, b), a))\n",
    "\n",
    "\n",
    "def random_start() -> int:\n",
    "    \"\"\"Random integer point in the interval.\"\"\"\n",
    "    a, b = interval\n",
    "    return int(a + (b - a) * rand.random_sample())\n",
    "\n",
    "\n",
    "def cost_function(x: int):\n",
    "    \"\"\"Cost of x = f(x).\"\"\"\n",
    "    return f(x)\n",
    "\n",
    "\n",
    "def random_neighbour(x, fraction=1):\n",
    "    \"\"\"Move a little bit x, from the left or the right.\"\"\"\n",
    "    amplitude = (max(interval) - min(interval)) * fraction / 10\n",
    "    delta = (-amplitude / 2.0) + amplitude * rand.random_sample()\n",
    "    return clip(x + delta)\n",
    "\n",
    "\n",
    "def acceptance_probability(cost, new_cost, temperature):\n",
    "    if new_cost < cost:\n",
    "        # print(\"    - Acceptance probabilty = 1 as new_cost = {} < cost = {}...\".format(new_cost, cost))\n",
    "        return 1\n",
    "    else:\n",
    "        p = np.exp(-(new_cost - cost) / temperature)\n",
    "        # print(\"    - Acceptance probabilty = {:.3g}...\".format(p))\n",
    "        return p\n",
    "\n",
    "\n",
    "def temperature(fraction):\n",
    "    \"\"\"Example of temperature dicreasing as the process goes on.\"\"\"\n",
    "    return max(0.01, min(1, 1 - fraction))\n",
    "\n",
    "\n",
    "def see_annealing(states, costs):\n",
    "    plt.figure()\n",
    "    plt.suptitle(\"Evolution of states and costs of the simulated annealing\")\n",
    "    plt.subplot(121)\n",
    "    plt.plot(states, \"r\")\n",
    "    plt.title(\"States\")\n",
    "    plt.subplot(122)\n",
    "    plt.plot(costs, \"b\")\n",
    "    plt.title(\"Costs\")\n",
    "    plt.show()"
   ]
  },
  {
   "cell_type": "code",
   "execution_count": null,
   "metadata": {},
   "outputs": [],
   "source": [
    "state, c, states, costs = annealing(\n",
    "    random_start,\n",
    "    cost_function,\n",
    "    random_neighbour,\n",
    "    acceptance_probability,\n",
    "    temperature,\n",
    "    maxsteps=1000,\n",
    "    debug=True,\n",
    ")\n",
    "\n",
    "print(state, c)\n",
    "see_annealing(states, costs)"
   ]
  },
  {
   "attachments": {},
   "cell_type": "markdown",
   "metadata": {},
   "source": [
    "## Simulated Annealing\n",
    "**Note:** `scipy.optimize.anneal` deprecated in favor of `scipy.optimize.basinhopping`.\n",
    "We're testing this on a randomly generated $32 \\times 2$ array that represents 32 random coordinates (each coordinate in $[0, 100)$)."
   ]
  },
  {
   "cell_type": "code",
   "execution_count": null,
   "metadata": {},
   "outputs": [],
   "source": [
    "def gen_rand_coords(num_coords=1, lo=0, up=100) -> tuple[np.ndarray, np.ndarray]:\n",
    "    \"\"\"\n",
    "    Generates random coordinates given number of coordinates within [lower bound, upper bound)\n",
    "    \"\"\"\n",
    "    return rand.rand(num_coords, 2) * up + lo"
   ]
  },
  {
   "cell_type": "code",
   "execution_count": null,
   "metadata": {},
   "outputs": [],
   "source": [
    "origins = gen_rand_coords(100)  # Homes/corrals\n",
    "dests = gen_rand_coords(16)  # Water sources"
   ]
  },
  {
   "cell_type": "code",
   "execution_count": null,
   "metadata": {},
   "outputs": [],
   "source": [
    "fig, ax = plt.subplots()\n",
    "\n",
    "ax.scatter(origins[:, 0], origins[:, 1])  # Blue\n",
    "ax.scatter(dests[:, 0], dests[:, 1])  # Orange"
   ]
  },
  {
   "cell_type": "code",
   "execution_count": null,
   "metadata": {},
   "outputs": [],
   "source": [
    "def avg_dist_from_pt(pt: np.ndarray, arr: np.ndarray) -> float:\n",
    "    \"\"\"\n",
    "    Calculates average distance that an array of points are from a point\n",
    "    \"\"\"\n",
    "    sum = 0\n",
    "    for arr_pt in arr:\n",
    "        sum += np.linalg.norm(pt - arr_pt)\n",
    "    return sum / arr.size"
   ]
  },
  {
   "attachments": {},
   "cell_type": "markdown",
   "metadata": {},
   "source": [
    "Absolute optimization example (control result to compare against)"
   ]
  },
  {
   "cell_type": "code",
   "execution_count": null,
   "metadata": {},
   "outputs": [],
   "source": [
    "avgs = np.array([avg_dist_from_pt(dest, origins) for dest in dests])\n",
    "\n",
    "fig, ax = plt.subplots()\n",
    "ax.scatter(dests[:, 0], dests[:, 1], c=avgs, s=64)  # s is a size of marker\n",
    "plt.gray()"
   ]
  }
 ],
 "metadata": {
  "kernelspec": {
   "display_name": "BodawayGap",
   "language": "python",
   "name": "python3"
  },
  "language_info": {
   "codemirror_mode": {
    "name": "ipython",
    "version": 3
   },
   "file_extension": ".py",
   "mimetype": "text/x-python",
   "name": "python",
   "nbconvert_exporter": "python",
   "pygments_lexer": "ipython3",
   "version": "3.11.1"
  },
  "orig_nbformat": 4,
  "vscode": {
   "interpreter": {
    "hash": "77423d1a0ae3338d2592a839d54a7b6fe9bcb88cc3c141029f96fe55d6e68932"
   }
  }
 },
 "nbformat": 4,
 "nbformat_minor": 2
}
