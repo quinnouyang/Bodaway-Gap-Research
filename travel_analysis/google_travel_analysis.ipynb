{
 "cells": [
  {
   "attachments": {},
   "cell_type": "markdown",
   "metadata": {},
   "source": [
    "# Analyzing Travel Times and Distances With Google Maps"
   ]
  },
  {
   "cell_type": "markdown",
   "metadata": {},
   "source": [
    "This gathers travel times and distances using the [Google Maps Distance Matrix API](https://developers.google.com/maps/documentation/distance-matrix).\n",
    "\n",
    "Given a list of $O$ origins and $D$ destinations, it calculates a $O$ by $D$ matrix of the respective travel time and distance for each origin and distance. The service [limits our queries](https://developers.google.com/maps/documentation/distance-matrix/usage-and-billing#other-usage-limits) to $O + D \\leq 25$ (up to 25 total inputs) and $O \\times D \\leq 100$ (up to 100 outputs). (We're also arbitrarily rate limited, hence the `sleep` timer.)"
   ]
  },
  {
   "attachments": {},
   "cell_type": "markdown",
   "metadata": {},
   "source": [
    "Ensure that Python 3.x and the following dependencies are installed. I'm sorry I did not provide more detailed installation and configuration information."
   ]
  },
  {
   "cell_type": "code",
   "execution_count": null,
   "metadata": {},
   "outputs": [],
   "source": [
    "from config import MAPS_API_KEY as API_KEY\n",
    "import requests\n",
    "import pandas as pd\n",
    "import json\n",
    "import matplotlib.pyplot as plt\n",
    "import numpy as np\n",
    "from time import sleep\n",
    "\n",
    "import plotly.graph_objects as go\n",
    "import plotly.express as px"
   ]
  },
  {
   "cell_type": "markdown",
   "metadata": {},
   "source": [
    "Below is an example input URL: multiple origins, one destination.\n",
    "Here, both origins and destinations are in latitude and longitude coordinates. (The API can take other forms, but we're only using coordinates.) Input format for both of these is `latitude_coord`%2C`longitude_coord`%7C`...`."
   ]
  },
  {
   "cell_type": "code",
   "execution_count": null,
   "metadata": {},
   "outputs": [],
   "source": [
    "ex_query_url = \"\"\"https://maps.googleapis.com/maps/api/distancematrix/json\n",
    "?destinations=40.659569%2C-73.933783%7C40.729029%2C-73.851524%7C40.6860072%2C-73.6334271%7C40.598566%2C-73.7527626\n",
    "&origins=40.6655101%2C-73.89188969999998\n",
    "&key=YOUR_API_KEY\"\"\""
   ]
  },
  {
   "cell_type": "markdown",
   "metadata": {},
   "source": [
    "### Example Query"
   ]
  },
  {
   "cell_type": "code",
   "execution_count": null,
   "metadata": {},
   "outputs": [],
   "source": [
    "formatted_dests = \"40.659569%2C-73.933783%7C40.729029%2C-73.851524%7C40.6860072%2C-73.6334271%7C40.598566%2C-73.7527626\"\n",
    "formatted_origs = \"40.6655101%2C-73.89188969999998\"\n",
    "example_url = f\"https://maps.googleapis.com/maps/api/distancematrix/json?destinations={formatted_dests}&origins={formatted_origs}&key={API_KEY}\"\n",
    "\n",
    "ex_query_url = f\"https://maps.googleapis.com/maps/api/distancematrix/json?destinations=40.659569%2C-73.933783%7C40.729029%2C-73.851524%7C40.6860072%2C-73.6334271%7C40.598566%2C-73.7527626&origins=40.6655101%2C-73.89188969999998&key={API_KEY}\"\n",
    "ex_query = requests.request(\"GET\", ex_query_url)\n",
    "print(ex_query.text)"
   ]
  },
  {
   "cell_type": "markdown",
   "metadata": {},
   "source": [
    "### Formatting Locations Into API-Specified String\n",
    "Accepts a DataFrame input (see \"Reading and Filtering Input Data\") and formats its latitude and loingitude coordinates to prepare it for querying."
   ]
  },
  {
   "cell_type": "code",
   "execution_count": null,
   "metadata": {},
   "outputs": [],
   "source": [
    "def format_locations(locs: pd.DataFrame) -> str:\n",
    "    return \"\".join(\n",
    "        [\n",
    "            f\"{coords['Latitude']}%2C{coords['Longitude']}%7C\"\n",
    "            for _, coords in locs.iterrows()\n",
    "        ]\n",
    "    )"
   ]
  },
  {
   "cell_type": "markdown",
   "metadata": {},
   "source": [
    "## Homes and Corrals vs. Watering Points"
   ]
  },
  {
   "cell_type": "markdown",
   "metadata": {},
   "source": [
    "### Reading and Filtering Input Data\n",
    "Most (if not all) of customizing the query is here, as we get to specify which destinations and origins to calculate distances against."
   ]
  },
  {
   "cell_type": "code",
   "execution_count": null,
   "metadata": {},
   "outputs": [],
   "source": [
    "df = pd.read_excel(\"GPS_Points_Master_Sheet.xlsx\")\n",
    "locs = df[[\"Name\", \"Type\", \"Longitude\", \"Latitude\"]]\n",
    "\n",
    "# Filter to water points (5 total)\n",
    "# Requires bitwise OR `|` and paranthesis around each conditional, i.e. `(locs['Column name'] == 'Row value\") | ...`\n",
    "dests = locs[\n",
    "    (locs[\"Name\"] == \"Cameron Watering Point\")\n",
    "    | (locs[\"Name\"] == \"Gap Watering Point\")\n",
    "    | (locs[\"Name\"] == \"Bitter Springs Watering Point\")\n",
    "    | (locs[\"Name\"] == \"Marble Canyon Watering Point\")\n",
    "    | (locs[\"Name\"] == \"Hidden Springs Watering Point\")\n",
    "]\n",
    "\n",
    "# Filter to homes and corrals (341 total)\n",
    "origs = locs.loc[(locs[\"Name\"] == \"Home\") | (locs[\"Name\"] == \"Corral\")]"
   ]
  },
  {
   "cell_type": "markdown",
   "metadata": {},
   "source": [
    "### Querying"
   ]
  },
  {
   "cell_type": "code",
   "execution_count": null,
   "metadata": {},
   "outputs": [],
   "source": [
    "def fetch_distances(formatted_dests: str, formatted_origs: str) -> str:\n",
    "    return requests.request(\n",
    "        \"GET\",\n",
    "        f\"https://maps.googleapis.com/maps/api/distancematrix/json?destinations={formatted_dests}&origins={formatted_origs}&key={API_KEY}\",\n",
    "    )"
   ]
  },
  {
   "cell_type": "code",
   "execution_count": null,
   "metadata": {},
   "outputs": [],
   "source": [
    "MAX_QUERIES = 25 - len(dests)\n",
    "raw_results = []  # Each query is a Response object\n",
    "\n",
    "formatted_dests = format_locations(dests)\n",
    "\n",
    "for i in range(0, len(origs), MAX_QUERIES):\n",
    "    # Query up to MAX_QUERIES origins starting from the i-th row\n",
    "    formatted_origs = format_locations(origs.iloc[i : min(i + MAX_QUERIES, len(locs))])\n",
    "    raw_results.append(fetch_distances(formatted_dests, formatted_origs))\n",
    "    sleep(0.000001)  # Arbitrary sleep timer to workaround rate limiting"
   ]
  },
  {
   "cell_type": "markdown",
   "metadata": {},
   "source": [
    "## Processing the Results\n",
    "\n",
    "The individual raw results are hard to analyze by themselves, so we merge them into the `dests` and `origs` DataFrames. (Remember that we probably made multiple queries to workaround the API limitations.) We also export the raw results in a list as a JSON file and the formatted DataFrames as a CSV/XSLX file.\n",
    "\n",
    "Most of the formatting is on the locations (destinations and origins), where we merge the API-fetched address with the input location coordinates/point, name, and type. E.g.\n",
    "```((-111.4136128, 35.8744329), \"Cameron Watering Point\", \"465 US-89, Cameron, AZ 86020, USA\")``` (This is not necessarily accurate.)\n",
    "\n",
    "Note that we take advantage that the queries are in the same order as the spreadsheet, from top to bottom, so we can process the results and input data sequentially without mixing up information/rows.\n",
    "\n",
    "### Example Formatted Result"
   ]
  },
  {
   "cell_type": "code",
   "execution_count": null,
   "metadata": {},
   "outputs": [],
   "source": [
    "ex_formatted_info = {\n",
    "    \"destinations\": [\n",
    "        # ((<Longitude>, <Latitude>), \"Location name\", \"<Address from query>\"),\n",
    "        # ...\n",
    "    ],\n",
    "    \"origins\": [\n",
    "        #  ... Same format as that of destinations\n",
    "    ],\n",
    "    \"info\": [\n",
    "        [\n",
    "            {  # Travel information from first origin to first destination\n",
    "                \"distance\": \"4.6 km\",\n",
    "                \"duration\": \"18 mins\",\n",
    "                \"status\": \"OK\",\n",
    "            },\n",
    "            # ... (Information for following destinations)\n",
    "        ]\n",
    "        # ... (Information for following origins)\n",
    "    ],\n",
    "}"
   ]
  },
  {
   "cell_type": "markdown",
   "metadata": {},
   "source": [
    "### Exporting Raw Results"
   ]
  },
  {
   "cell_type": "code",
   "execution_count": null,
   "metadata": {},
   "outputs": [],
   "source": [
    "with open(\"raw_info.json\", \"w\") as outfile:\n",
    "    outfile.write(\"[\" + \",\".join([res.text for res in raw_results]) + \"]\")"
   ]
  },
  {
   "cell_type": "markdown",
   "metadata": {},
   "source": [
    "### Formatting Results"
   ]
  },
  {
   "cell_type": "code",
   "execution_count": null,
   "metadata": {},
   "outputs": [],
   "source": [
    "# To format into # of mins. e.g. input times \"23 mins\" or \"1 hour 3 mins\"\n",
    "def format_time(time: str) -> int:\n",
    "    min_index = time.index(\"min\")\n",
    "    if \"hour\" in time:\n",
    "        hr_index = time.index(\"hour\")\n",
    "        time = int(time[:hr_index]) * 60 + int(time[hr_index + len(\"hour\") : min_index])\n",
    "    else:\n",
    "        time = int(time[:min_index])\n",
    "\n",
    "    return time"
   ]
  },
  {
   "cell_type": "code",
   "execution_count": null,
   "metadata": {},
   "outputs": [],
   "source": [
    "# 341 (origins) X 5 (destinations)\n",
    "time_matrix = np.zeros((len(origs), len(dests)), int)\n",
    "\n",
    "orig_i = 0\n",
    "for res_obj in raw_results:\n",
    "    res = json.loads(res_obj.text)\n",
    "    for i, dest_infos in enumerate(res[\"rows\"]):\n",
    "        for dest_i, travel_info in enumerate(res[\"rows\"][i][\"elements\"]):\n",
    "            time_matrix[orig_i, dest_i] = format_time(travel_info[\"duration\"][\"text\"])\n",
    "        orig_i += 1\n",
    "\n",
    "for i, col in enumerate(time_matrix.T):\n",
    "    origs.assign(**{dests[\"Name\"].iloc[i] + \" Travel Time (min.)\": col})\n",
    "\n",
    "origs.to_excel(\"formatted_data.xlsx\", index=False)"
   ]
  },
  {
   "cell_type": "markdown",
   "metadata": {},
   "source": [
    "### Computing Analyses"
   ]
  },
  {
   "cell_type": "code",
   "execution_count": null,
   "metadata": {},
   "outputs": [],
   "source": [
    "median_times = np.median(time_matrix, axis=1)\n",
    "mean_times = np.mean(time_matrix, axis=1)\n",
    "\n",
    "origs = origs.assign(**{\"Median\": median_times.tolist()})\n",
    "origs = origs.assign(**{\"Mean\": mean_times.tolist()})\n",
    "\n",
    "origs.to_excel(\"formatted_data.xlsx\", index=False)"
   ]
  },
  {
   "cell_type": "markdown",
   "metadata": {},
   "source": [
    "### Analyses Figures\n",
    "IDK how to neatly plot in the same figure, so two cells each for mean and median."
   ]
  },
  {
   "cell_type": "code",
   "execution_count": null,
   "metadata": {},
   "outputs": [],
   "source": [
    "fig = plt.figure()\n",
    "ax1 = fig.add_subplot()\n",
    "n, bins, patches = ax1.hist(\n",
    "    median_times, bins=20, weights=np.ones(len(mean_times)) / len(mean_times)\n",
    ")\n",
    "\n",
    "plt.title(\"Homes and Corrals vs. Median Travel Time\")\n",
    "plt.xlabel(\"Median Travel Time to Watering Points (mins.)\")\n",
    "plt.ylabel(\"% of All Homes/Corrals\")"
   ]
  },
  {
   "cell_type": "code",
   "execution_count": null,
   "metadata": {},
   "outputs": [],
   "source": [
    "fig = plt.figure()\n",
    "ax2 = fig.add_subplot()\n",
    "n, bins, patches = ax2.hist(\n",
    "    mean_times, bins=20, weights=np.ones(len(mean_times)) / len(mean_times)\n",
    ")\n",
    "\n",
    "plt.title(\"Homes and Corrals vs. Mean Travel Time\")\n",
    "plt.xlabel(\"Mean Travel Time to Watering Points (mins.)\")\n",
    "plt.ylabel(\"% of All Homes/Corrals\")"
   ]
  },
  {
   "cell_type": "code",
   "execution_count": null,
   "metadata": {},
   "outputs": [],
   "source": [
    "print(\n",
    "    f\"\"\"\n",
    "      | Other Information |\n",
    "      Number of origins: {len(origs)}\n",
    "      Number of destinations: {len(dests)}\n",
    "      Standard deviation of median times: {np.std(median_times)}\n",
    "      Standard deviation of mean times: {np.std(mean_times)}\n",
    "      \"\"\"\n",
    ")"
   ]
  },
  {
   "cell_type": "markdown",
   "metadata": {},
   "source": [
    "## Geoplotting"
   ]
  },
  {
   "cell_type": "code",
   "execution_count": null,
   "metadata": {},
   "outputs": [],
   "source": [
    "boundary_points = None\n",
    "with open(\"boundary.txt\") as f:\n",
    "    point_strs = f.readlines()[0].split(\", \")\n",
    "    boundary_points = np.empty((len(point_strs), 2), dtype=tuple)\n",
    "    for i, point_str in enumerate(point_strs):\n",
    "        p = point_str.split(\" \")\n",
    "        boundary_points[i] = np.array([float(p[0]), float(p[1])])"
   ]
  },
  {
   "cell_type": "code",
   "execution_count": null,
   "metadata": {},
   "outputs": [],
   "source": [
    "# Hover labels for plot points\n",
    "orig_labels = (\n",
    "    origs[\"Name\"]\n",
    "    + \", \"\n",
    "    + origs[\"Type\"]\n",
    "    + \". Min: \"\n",
    "    + time_matrix.min(axis=1).astype(str)\n",
    ")\n",
    "dest_labels = dests[\"Name\"] + \", \" + dests[\"Type\"]\n",
    "\n",
    "# Origins (Homes and Corrals)\n",
    "fig = go.Figure(\n",
    "    data=go.Scattergeo(\n",
    "        # locationmode='USA-states',\n",
    "        lat=origs[\"Latitude\"],\n",
    "        lon=origs[\"Longitude\"],\n",
    "        text=orig_labels,\n",
    "        marker=dict(\n",
    "            line=dict(width=1, color=\"rgba(102, 102, 102)\"),\n",
    "            # colorscale='Blues',\n",
    "            cmin=0,\n",
    "            color=time_matrix.min(axis=1),\n",
    "            cmax=time_matrix.min(axis=1).max(),\n",
    "            colorbar_title=\"Minimum Time (min.)\",\n",
    "        ),\n",
    "    )\n",
    ")\n",
    "\n",
    "# Destinations (Watering Points)\n",
    "fig.add_trace(\n",
    "    go.Scattergeo(\n",
    "        lat=dests[\"Latitude\"],\n",
    "        lon=dests[\"Longitude\"],\n",
    "        text=dest_labels,\n",
    "        marker=dict(symbol=\"square\", line=dict(width=1, color=\"rgba(102, 102, 102)\")),\n",
    "    )\n",
    ")\n",
    "\n",
    "# Chapter Border\n",
    "fig.add_trace(\n",
    "    go.Scattergeo(lat=boundary_points[:, 1], lon=boundary_points[:, 0], mode=\"lines\")\n",
    ")\n",
    "fig.update_geos(fitbounds=\"locations\")\n",
    "fig.update_layout(legend_orientation=\"h\", mapbox_style=\"open-street-map\")\n",
    "fig.show()"
   ]
  },
  {
   "cell_type": "code",
   "execution_count": null,
   "metadata": {},
   "outputs": [],
   "source": [
    "fig = px.scatter_mapbox(\n",
    "    origs,\n",
    "    lat=\"Latitude\",\n",
    "    lon=\"Longitude\",\n",
    "    hover_name=\"Name\",\n",
    "    hover_data=[\"Type\"],\n",
    "    color_discrete_sequence=[\"fuchsia\"],\n",
    ")\n",
    "fig.add_trace(\n",
    "    go.Scattergeo(lat=boundary_points[:, 1], lon=boundary_points[:, 0], mode=\"lines\")\n",
    ")\n",
    "fig.update_layout(\n",
    "    margin={\"r\": 0, \"t\": 0, \"l\": 0, \"b\": 0}, mapbox_style=\"open-street-map\"\n",
    ")\n",
    "fig.show()"
   ]
  },
  {
   "cell_type": "code",
   "execution_count": null,
   "metadata": {},
   "outputs": [],
   "source": [
    "print(orig_labels)"
   ]
  },
  {
   "cell_type": "code",
   "execution_count": null,
   "metadata": {},
   "outputs": [],
   "source": [
    "fig = go.Figure(\n",
    "    data=go.Contour(\n",
    "        z=time_matrix.min(axis=1),\n",
    "        x=origs[\"Latitude\"],\n",
    "        y=origs[\"Longitude\"],\n",
    "        colorscale=\"Hot\",\n",
    "        contours_coloring=\"heatmap\",\n",
    "    )\n",
    ")\n",
    "\n",
    "fig.show()"
   ]
  },
  {
   "cell_type": "markdown",
   "metadata": {},
   "source": [
    "## Countour Plot"
   ]
  },
  {
   "cell_type": "code",
   "execution_count": null,
   "metadata": {},
   "outputs": [],
   "source": [
    "fig = go.Figure()\n",
    "\n",
    "fig.add_trace(\n",
    "    go.Carpet(\n",
    "        a=[0, 1, 2, 3, 0, 1, 2, 3, 0, 1, 2, 3],\n",
    "        b=[4, 4, 4, 4, 5, 5, 5, 5, 6, 6, 6, 6],\n",
    "        x=[2, 3, 4, 5, 2.2, 3.1, 4.1, 5.1, 1.5, 2.5, 3.5, 4.5],\n",
    "        y=[1, 1.4, 1.6, 1.75, 2, 2.5, 2.7, 2.75, 3, 3.5, 3.7, 3.75],\n",
    "        aaxis=dict(tickprefix=\"a = \", smoothing=0, minorgridcount=9, type=\"linear\"),\n",
    "        baxis=dict(tickprefix=\"b = \", smoothing=0, minorgridcount=9, type=\"linear\"),\n",
    "    )\n",
    ")\n",
    "fig.update_layout()\n",
    "fig.show()"
   ]
  }
 ],
 "metadata": {
  "kernelspec": {
   "display_name": "BodawayGap",
   "language": "python",
   "name": "python3"
  },
  "language_info": {
   "codemirror_mode": {
    "name": "ipython",
    "version": 3
   },
   "file_extension": ".py",
   "mimetype": "text/x-python",
   "name": "python",
   "nbconvert_exporter": "python",
   "pygments_lexer": "ipython3",
   "version": "3.11.1"
  },
  "orig_nbformat": 4,
  "vscode": {
   "interpreter": {
    "hash": "77423d1a0ae3338d2592a839d54a7b6fe9bcb88cc3c141029f96fe55d6e68932"
   }
  }
 },
 "nbformat": 4,
 "nbformat_minor": 2
}
